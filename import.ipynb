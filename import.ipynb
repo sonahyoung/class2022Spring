{
  "nbformat": 4,
  "nbformat_minor": 0,
  "metadata": {
    "colab": {
      "name": "import.ipynb",
      "provenance": [],
      "include_colab_link": true
    },
    "kernelspec": {
      "name": "python3",
      "display_name": "Python 3"
    },
    "language_info": {
      "name": "python"
    }
  },
  "cells": [
    {
      "cell_type": "markdown",
      "metadata": {
        "id": "view-in-github",
        "colab_type": "text"
      },
      "source": [
        "<a href=\"https://colab.research.google.com/github/sonahyoung/class2022Spring/blob/main/import.ipynb\" target=\"_parent\"><img src=\"https://colab.research.google.com/assets/colab-badge.svg\" alt=\"Open In Colab\"/></a>"
      ]
    },
    {
      "cell_type": "code",
      "source": [
        "import numpy   #numpy라는 큰 원안에, 내부적으로 여러 function이 있는 방이 또 있음, 그 function을 쓰고 싶으면 지정을 해줘야함.\n",
        "               #numpy는 random 숫자를 만든다던지, 행렬 같은 걸 만든다는지, 통계처리를 할때 등 씀"
      ],
      "metadata": {
        "id": "wSXCtZE6UTn0"
      },
      "execution_count": 4,
      "outputs": []
    },
    {
      "cell_type": "code",
      "source": [
        "numpy.random.randn(5)   #평균이 0이고 standard diviatioon이 아마도 1인 정규분포 안에서 만들어지는 거임."
      ],
      "metadata": {
        "id": "21DyHq6xU1At",
        "outputId": "1facdd87-006c-41b8-847c-08b616ca9f54",
        "colab": {
          "base_uri": "https://localhost:8080/"
        }
      },
      "execution_count": 6,
      "outputs": [
        {
          "output_type": "execute_result",
          "data": {
            "text/plain": [
              "array([-0.76391006, -1.19062494, -0.9453729 ,  0.64393687,  0.3765046 ])"
            ]
          },
          "metadata": {},
          "execution_count": 6
        }
      ]
    },
    {
      "cell_type": "code",
      "metadata": {
        "id": "JXicrkYOzPRo"
      },
      "source": [
        "import numpy as np  #package 이름이 numpy인거임. numpy가 너무 길어서 np로 줄인거임\n",
        "n = np.random.randn(100)"
      ],
      "execution_count": 7,
      "outputs": []
    },
    {
      "cell_type": "code",
      "metadata": {
        "id": "oKT4vn4MwyLA",
        "colab": {
          "base_uri": "https://localhost:8080/",
          "height": 356
        },
        "outputId": "e36113b6-ce83-4e4b-bb3d-85f646a49dc8"
      },
      "source": [
        "import matplotlib   #matplotlib는 plotting하고 visualizing하는 데 유명한 함수임.\n",
        "matplotlib.pyplot.hist(n)  #hist는 histogram을 그려주는 함수임."
      ],
      "execution_count": 9,
      "outputs": [
        {
          "output_type": "execute_result",
          "data": {
            "text/plain": [
              "(array([ 5.,  5., 11., 13., 21., 19., 11.,  7.,  4.,  4.]),\n",
              " array([-2.33375774, -1.84496446, -1.35617119, -0.86737791, -0.37858464,\n",
              "         0.11020864,  0.59900191,  1.08779518,  1.57658846,  2.06538173,\n",
              "         2.55417501]),\n",
              " <a list of 10 Patch objects>)"
            ]
          },
          "metadata": {},
          "execution_count": 9
        },
        {
          "output_type": "display_data",
          "data": {
            "text/plain": [
              "<Figure size 432x288 with 1 Axes>"
            ],
            "image/png": "[encoded data removed]"
          },
          "metadata": {
            "needs_background": "light"
          }
        }
      ]
    },
    {
      "cell_type": "code",
      "metadata": {
        "colab": {
          "base_uri": "https://localhost:8080/",
          "height": 356
        },
        "id": "zQJ4LnbA-Hvz",
        "outputId": "9f59b6b4-e820-4c7d-905a-6240addbb886"
      },
      "source": [
        "import matplotlib.pyplot\n",
        "matplotlib.pyplot.hist(n)"
      ],
      "execution_count": 10,
      "outputs": [
        {
          "output_type": "execute_result",
          "data": {
            "text/plain": [
              "(array([ 5.,  5., 11., 13., 21., 19., 11.,  7.,  4.,  4.]),\n",
              " array([-2.33375774, -1.84496446, -1.35617119, -0.86737791, -0.37858464,\n",
              "         0.11020864,  0.59900191,  1.08779518,  1.57658846,  2.06538173,\n",
              "         2.55417501]),\n",
              " <a list of 10 Patch objects>)"
            ]
          },
          "metadata": {},
          "execution_count": 10
        },
        {
          "output_type": "display_data",
          "data": {
            "text/plain": [
              "<Figure size 432x288 with 1 Axes>"
            ],
            "image/png": "[encoded data removed]"
          },
          "metadata": {
            "needs_background": "light"
          }
        }
      ]
    },
    {
      "cell_type": "code",
      "metadata": {
        "id": "AWU6awi53c07",
        "outputId": "ff10a5cd-6a30-4288-fb49-60e1e29b9a53",
        "colab": {
          "base_uri": "https://localhost:8080/",
          "height": 356
        }
      },
      "source": [
        "import matplotlib.pyplot as plt   #matplotlib.pyplot이 너무 길어서 plt로 줄인거임.\n",
        "plt.hist(n)"
      ],
      "execution_count": 11,
      "outputs": [
        {
          "output_type": "execute_result",
          "data": {
            "text/plain": [
              "(array([ 5.,  5., 11., 13., 21., 19., 11.,  7.,  4.,  4.]),\n",
              " array([-2.33375774, -1.84496446, -1.35617119, -0.86737791, -0.37858464,\n",
              "         0.11020864,  0.59900191,  1.08779518,  1.57658846,  2.06538173,\n",
              "         2.55417501]),\n",
              " <a list of 10 Patch objects>)"
            ]
          },
          "metadata": {},
          "execution_count": 11
        },
        {
          "output_type": "display_data",
          "data": {
            "text/plain": [
              "<Figure size 432x288 with 1 Axes>"
            ],
            "image/png": "[encoded data removed]"
          },
          "metadata": {
            "needs_background": "light"
          }
        }
      ]
    },
    {
      "cell_type": "markdown",
      "source": [
        "## from import를 쓰면 import as처럼 축약해서 부를 수 있는 효과"
      ],
      "metadata": {
        "id": "v1zA2xRWzpdu"
      }
    },
    {
      "cell_type": "code",
      "metadata": {
        "colab": {
          "base_uri": "https://localhost:8080/",
          "height": 356
        },
        "id": "moIjn3Kv-Hqy",
        "outputId": "6cde2fc7-e6c9-4c03-da3a-4af300b9b519"
      },
      "source": [
        "from matplotlib import pyplot  #matplotlib에서 pyplot이라는 하위폴더를 불러와라\n",
        "pyplot.hist(n)"
      ],
      "execution_count": 12,
      "outputs": [
        {
          "output_type": "execute_result",
          "data": {
            "text/plain": [
              "(array([ 5.,  5., 11., 13., 21., 19., 11.,  7.,  4.,  4.]),\n",
              " array([-2.33375774, -1.84496446, -1.35617119, -0.86737791, -0.37858464,\n",
              "         0.11020864,  0.59900191,  1.08779518,  1.57658846,  2.06538173,\n",
              "         2.55417501]),\n",
              " <a list of 10 Patch objects>)"
            ]
          },
          "metadata": {},
          "execution_count": 12
        },
        {
          "output_type": "display_data",
          "data": {
            "text/plain": [
              "<Figure size 432x288 with 1 Axes>"
            ],
            "image/png": "[encoded data removed]"
          },
          "metadata": {
            "needs_background": "light"
          }
        }
      ]
    },
    {
      "cell_type": "code",
      "metadata": {
        "colab": {
          "base_uri": "https://localhost:8080/",
          "height": 356
        },
        "id": "ORo259i7_Uqi",
        "outputId": "9c854302-f07f-436f-d617-481cf0bf5d18"
      },
      "source": [
        "from matplotlib.pyplot import hist\n",
        "hist(n)"
      ],
      "execution_count": 13,
      "outputs": [
        {
          "output_type": "execute_result",
          "data": {
            "text/plain": [
              "(array([ 5.,  5., 11., 13., 21., 19., 11.,  7.,  4.,  4.]),\n",
              " array([-2.33375774, -1.84496446, -1.35617119, -0.86737791, -0.37858464,\n",
              "         0.11020864,  0.59900191,  1.08779518,  1.57658846,  2.06538173,\n",
              "         2.55417501]),\n",
              " <a list of 10 Patch objects>)"
            ]
          },
          "metadata": {},
          "execution_count": 13
        },
        {
          "output_type": "display_data",
          "data": {
            "text/plain": [
              "<Figure size 432x288 with 1 Axes>"
            ],
            "image/png": "[encoded data removed]"
          },
          "metadata": {
            "needs_background": "light"
          }
        }
      ]
    }
  ]
}
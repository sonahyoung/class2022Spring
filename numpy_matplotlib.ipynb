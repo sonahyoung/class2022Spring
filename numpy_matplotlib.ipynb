{
  "nbformat": 4,
  "nbformat_minor": 0,
  "metadata": {
    "kernelspec": {
      "display_name": "Python 3",
      "language": "python",
      "name": "python3"
    },
    "language_info": {
      "codemirror_mode": {
        "name": "ipython",
        "version": 3
      },
      "file_extension": ".py",
      "mimetype": "text/x-python",
      "name": "python",
      "nbconvert_exporter": "python",
      "pygments_lexer": "ipython3",
      "version": "3.7.1"
    },
    "colab": {
      "name": "numpy_matplotlib.ipynb",
      "provenance": [],
      "include_colab_link": true
    }
  },
  "cells": [
    {
      "cell_type": "markdown",
      "metadata": {
        "id": "view-in-github",
        "colab_type": "text"
      },
      "source": [
        "<a href=\"https://colab.research.google.com/github/sonahyoung/class2022Spring/blob/main/numpy_matplotlib.ipynb\" target=\"_parent\"><img src=\"https://colab.research.google.com/assets/colab-badge.svg\" alt=\"Open In Colab\"/></a>"
      ]
    },
    {
      "cell_type": "markdown",
      "metadata": {
        "id": "JcCdLoe_4bY7"
      },
      "source": [
        "### create nd arrays (≈matrices)"
      ]
    },
    {
      "cell_type": "markdown",
      "source": [
        "matrices는 행렬이라는 뜻, 직사각형 모양의 숫자 배열\n"
      ],
      "metadata": {
        "id": "lzRHWgJmWhoP"
      }
    },
    {
      "cell_type": "code",
      "metadata": {
        "id": "5ap7xyofShBB"
      },
      "source": [
        "import numpy as np"
      ],
      "execution_count": 1,
      "outputs": []
    },
    {
      "cell_type": "code",
      "metadata": {
        "id": "2rqpSPZCShBC",
        "colab": {
          "base_uri": "https://localhost:8080/"
        },
        "outputId": "ed5a12e7-c5f2-45b5-99a9-070ad2dcdb51"
      },
      "source": [
        "x = np.array([1,2,3])  #[1,2,3]은 list, list는 반드시 array로 바꿔야함.\n",
        "print(x)\n",
        "print(type(x))  #class는 특수한 변수라고 생각, numpy에서 제공하는 특수한 변수(?)\n",
        "print(x.shape)"
      ],
      "execution_count": 2,
      "outputs": [
        {
          "output_type": "stream",
          "name": "stdout",
          "text": [
            "[1 2 3]\n",
            "<class 'numpy.ndarray'>\n",
            "(3,)\n"
          ]
        }
      ]
    },
    {
      "cell_type": "code",
      "metadata": {
        "id": "EjC88C75ShBC",
        "colab": {
          "base_uri": "https://localhost:8080/"
        },
        "outputId": "c7fe0099-fdd2-4190-eb03-0ce588cf51fb"
      },
      "source": [
        "x = np.arange(0,10,2)   #arange는 0부터 10까지 2만큼 increment하라. 하지만, 10은 포함하지 마라. 10보다 작게 만들어라.\n",
        "print(x)\n",
        "print(type(x))\n",
        "print(x.shape)"
      ],
      "execution_count": 3,
      "outputs": [
        {
          "output_type": "stream",
          "name": "stdout",
          "text": [
            "[0 2 4 6 8]\n",
            "<class 'numpy.ndarray'>\n",
            "(5,)\n"
          ]
        }
      ]
    },
    {
      "cell_type": "code",
      "metadata": {
        "id": "-MwkCEjTShBC",
        "colab": {
          "base_uri": "https://localhost:8080/"
        },
        "outputId": "945f1014-fed1-4355-ce47-318ad4dc635c"
      },
      "source": [
        "x = np.linspace(0,10,6)  #linspace는 linear space라는 뜻, 0부터 10까지, 10을 포함해서 등분을 해서 6개의 숫자를 만들어라. 등간격으로 만들어라.\n",
        "print(x)\n",
        "print(type(x))\n",
        "print(x.shape)"
      ],
      "execution_count": 4,
      "outputs": [
        {
          "output_type": "stream",
          "name": "stdout",
          "text": [
            "[ 0.  2.  4.  6.  8. 10.]\n",
            "<class 'numpy.ndarray'>\n",
            "(6,)\n"
          ]
        }
      ]
    },
    {
      "cell_type": "code",
      "metadata": {
        "id": "tjk79SQ27fNv",
        "colab": {
          "base_uri": "https://localhost:8080/"
        },
        "outputId": "baf519d8-9b71-482a-b47a-5000bca3b062"
      },
      "source": [
        "x = np.array([[1,2,3], [4,5,6]])   #list를 2개 씀. \n",
        "print(x)\n",
        "print(type(x))\n",
        "print(x.shape)   #row는 2개, column(?)이 3개 있다."
      ],
      "execution_count": 5,
      "outputs": [
        {
          "output_type": "stream",
          "name": "stdout",
          "text": [
            "[[1 2 3]\n",
            " [4 5 6]]\n",
            "<class 'numpy.ndarray'>\n",
            "(2, 3)\n"
          ]
        }
      ]
    },
    {
      "cell_type": "code",
      "metadata": {
        "id": "C1ogg6iZ7yir",
        "colab": {
          "base_uri": "https://localhost:8080/"
        },
        "outputId": "69ba13cf-9343-4688-e14f-b83123ea8b45"
      },
      "source": [
        "x = np.array([[[1,2,3], [4,5,6]], [[7,8,9], [10,11,12]]])    #몇차원인지 보고 싶을때는 맨 끝의 대괄호의 개수를 보면 알 수 있음. 3개니까 3d array가 되는 거임.\n",
        "print(x)\n",
        "print(type(x))\n",
        "print(x.shape)    # 2 by 2 by 3 array인거임."
      ],
      "execution_count": 7,
      "outputs": [
        {
          "output_type": "stream",
          "name": "stdout",
          "text": [
            "[[[ 1  2  3]\n",
            "  [ 4  5  6]]\n",
            "\n",
            " [[ 7  8  9]\n",
            "  [10 11 12]]]\n",
            "<class 'numpy.ndarray'>\n",
            "(2, 2, 3)\n"
          ]
        }
      ]
    },
    {
      "cell_type": "code",
      "metadata": {
        "id": "efgeNHtD8ZlT",
        "colab": {
          "base_uri": "https://localhost:8080/"
        },
        "outputId": "1cf22c7c-5c35-42e2-ecf6-3f0b9f23ca11"
      },
      "source": [
        "x = np.ones([2, 2, 3])   #2 by 2 by 3 array에서 안에는 1로 채워라\n",
        "print(x)\n",
        "print(type(x))\n",
        "print(x.shape)"
      ],
      "execution_count": 9,
      "outputs": [
        {
          "output_type": "stream",
          "name": "stdout",
          "text": [
            "[[[1. 1. 1.]\n",
            "  [1. 1. 1.]]\n",
            "\n",
            " [[1. 1. 1.]\n",
            "  [1. 1. 1.]]]\n",
            "<class 'numpy.ndarray'>\n",
            "(2, 2, 3)\n"
          ]
        }
      ]
    },
    {
      "cell_type": "code",
      "metadata": {
        "id": "b_F-ccY08zzl",
        "colab": {
          "base_uri": "https://localhost:8080/"
        },
        "outputId": "377d54ac-723c-467d-f557-c8f42275e671"
      },
      "source": [
        "x = np.zeros([2, 2, 3])   #ones에서 1로 채운걸 0으로 바꾸는 거\n",
        "print(x)\n",
        "print(type(x))\n",
        "print(x.shape)\n",
        "x.reshape(3,2,2)"
      ],
      "execution_count": 10,
      "outputs": [
        {
          "output_type": "stream",
          "name": "stdout",
          "text": [
            "[[[0. 0. 0.]\n",
            "  [0. 0. 0.]]\n",
            "\n",
            " [[0. 0. 0.]\n",
            "  [0. 0. 0.]]]\n",
            "<class 'numpy.ndarray'>\n",
            "(2, 2, 3)\n"
          ]
        },
        {
          "output_type": "execute_result",
          "data": {
            "text/plain": [
              "array([[[0., 0.],\n",
              "        [0., 0.]],\n",
              "\n",
              "       [[0., 0.],\n",
              "        [0., 0.]],\n",
              "\n",
              "       [[0., 0.],\n",
              "        [0., 0.]]])"
            ]
          },
          "metadata": {},
          "execution_count": 10
        }
      ]
    },
    {
      "cell_type": "markdown",
      "metadata": {
        "id": "0hQuDJ5g9gpE"
      },
      "source": [
        "### create random numbers"
      ]
    },
    {
      "cell_type": "code",
      "source": [
        "np.random.normal(0, 1, [2,3,4])    #평균(means)가 0이고 표준편차(standard deviation)이 1인데, 2 by 3 by 4 array 형태로 만들어라."
      ],
      "metadata": {
        "id": "pCVnElBgan70",
        "outputId": "c2e0129f-8efa-444b-bb32-1dd4e34d69e1",
        "colab": {
          "base_uri": "https://localhost:8080/"
        }
      },
      "execution_count": 11,
      "outputs": [
        {
          "output_type": "execute_result",
          "data": {
            "text/plain": [
              "array([[[-2.09119432,  0.84512133, -3.03320894, -1.42686042],\n",
              "        [ 1.5885907 , -1.85782385,  0.72085267,  1.68595726],\n",
              "        [ 0.59010848,  0.95269776,  0.90329778,  1.31886865]],\n",
              "\n",
              "       [[ 2.04315885, -0.86355418,  0.53823751,  0.5706803 ],\n",
              "        [ 0.91407191,  1.39524993, -0.73615023,  0.61246816],\n",
              "        [-0.41439567,  0.90952106, -1.68832049, -1.02718245]]])"
            ]
          },
          "metadata": {},
          "execution_count": 11
        }
      ]
    },
    {
      "cell_type": "code",
      "metadata": {
        "id": "QRatmkx79otL"
      },
      "source": [
        "import matplotlib.pyplot as plt"
      ],
      "execution_count": 12,
      "outputs": []
    },
    {
      "cell_type": "code",
      "metadata": {
        "id": "z1oOAB6dShBD",
        "colab": {
          "base_uri": "https://localhost:8080/",
          "height": 664
        },
        "outputId": "925e7496-f696-463b-88f2-24ecf41391d6"
      },
      "source": [
        "x = np.random.normal(0, 1, 100)    #평균이 0이고 표준편차가 1인데, 100개의 숫자를 만들어라. 1d array인거임. 긴 한줄의 100개 숫자를 만들어주는거임.\n",
        "print(x)\n",
        "plt.hist(x, bins=10)   #bins는 통인거임. 직사각형의 개수가 10개인거임."
      ],
      "execution_count": 15,
      "outputs": [
        {
          "output_type": "stream",
          "name": "stdout",
          "text": [
            "[ 1.38421663 -0.02873027 -0.8452492   0.23546546 -0.17251675  1.05856431\n",
            " -0.57424139 -0.42004745  1.23628237  0.57675778 -0.60534679  0.91206319\n",
            "  0.44141178  0.91954911 -0.14799569 -0.24766551  0.37361301 -0.43326584\n",
            " -2.21306396 -0.65198729  0.92661538  2.10952806  0.332509   -0.12348208\n",
            " -0.16450414  0.8575682   0.53369855  1.78491929 -0.89568911  2.40364499\n",
            " -0.61756703 -1.63645089 -0.82059141 -0.5248901  -0.07016898 -0.19821167\n",
            " -1.02210304  0.67901076  1.06839039  0.09330807  0.31600585 -1.19483523\n",
            " -1.47817549  1.65863401 -0.5293291   0.74073715  0.0793677  -0.86062578\n",
            " -0.91256943 -0.3943427   0.41320094 -0.72161375  0.73693015 -0.69963186\n",
            " -0.74563144  1.63565083 -1.70025549  2.1207279   0.63912067 -0.94350203\n",
            "  0.63993146  0.63877928 -0.63625884 -1.3181087   0.13762988 -1.66437497\n",
            " -0.10205468 -2.47377987  1.26420608 -0.20402478  0.0395304   2.14387559\n",
            "  1.21992847  0.30195785 -0.39562876 -1.77186953  0.05388053 -0.2477589\n",
            " -0.60652131  0.23787977 -0.21798906  0.6207133  -1.25617936 -1.74078404\n",
            "  1.58417149  1.61101756  0.88664861 -2.58695741 -0.59943223  0.87849535\n",
            " -1.27699801  1.11003661 -1.94161292  0.55331639  0.45988189  0.85188318\n",
            "  1.50555889 -0.11100286 -0.08700726 -1.28745741]\n"
          ]
        },
        {
          "output_type": "execute_result",
          "data": {
            "text/plain": [
              "(array([ 3.,  6.,  6., 16., 18., 14., 17., 10.,  6.,  4.]),\n",
              " array([-2.58695741, -2.08789717, -1.58883693, -1.08977669, -0.59071645,\n",
              "        -0.09165621,  0.40740403,  0.90646427,  1.40552451,  1.90458475,\n",
              "         2.40364499]),\n",
              " <a list of 10 Patch objects>)"
            ]
          },
          "metadata": {},
          "execution_count": 15
        },
        {
          "output_type": "display_data",
          "data": {
            "text/plain": [
              "<Figure size 432x288 with 1 Axes>"
            ],
            "image/png": "[encoded data removed]"
          },
          "metadata": {
            "needs_background": "light"
          }
        }
      ]
    },
    {
      "cell_type": "markdown",
      "metadata": {
        "id": "G0exvwBbShBE"
      },
      "source": [
        "### generate a sine curve"
      ]
    },
    {
      "cell_type": "code",
      "metadata": {
        "id": "HgQmRXzMShBE",
        "colab": {
          "base_uri": "https://localhost:8080/",
          "height": 282
        },
        "outputId": "a266cc4f-3373-43c7-d8a8-3290c8bf4248"
      },
      "source": [
        "plt.figure()    #figure는 틀을 잡아주는 함수\n",
        "\n",
        "theta1 = np.linspace(0, 2*np.pi, 100)    #0부터 2ㅠ까지 100개의 숫자를 만들어내는거임. 시험문제 여기서 낼 수 있음 -> theta의 개수는 몇개인가? 100개\n",
        "s1 = np.sin(theta1)  #s1에 있는 숫자의 개수도 100개임\n",
        "theta2 = np.linspace(0, 2*np.pi, 100) + np.pi/2  \n",
        "s2 = np.sin(theta2)\n",
        "\n",
        "plt.subplot(2, 1, 1) # (rows, columns, panel number)     #subplot는 2 by 1으로 만드는 거임. 그림을 2줄로 해라. 세로로는 한줄로 해라. 마지막 1은 그 중에서 1번째꺼의 그림을 그려라는 뜻\n",
        "plt.plot(theta1, s1, '.')    #함수의 점의 개수는 100개,theta1하고 s1은 pair로 되어있음. '.'은 점으로 그리라는 거임.\n",
        "plt.subplot(2, 1, 2) # (rows, columns, panel number)\n",
        "plt.plot(theta2, s2, '.')"
      ],
      "execution_count": null,
      "outputs": [
        {
          "output_type": "execute_result",
          "data": {
            "text/plain": [
              "[<matplotlib.lines.Line2D at 0x7f3b55111d90>]"
            ]
          },
          "metadata": {},
          "execution_count": 8
        },
        {
          "output_type": "display_data",
          "data": {
            "text/plain": [
              "<Figure size 432x288 with 2 Axes>"
            ],
            "image/png": "[encoded data removed]"
          },
          "metadata": {
            "needs_background": "light"
          }
        }
      ]
    },
    {
      "cell_type": "markdown",
      "source": [
        "한 학급에 10명이 있다고 생각해보자.\n",
        "각 사람마다 영어점수와 수학점수가 있다.\n",
        "그걸 x축은 영어로, y축은 수학점수로 해서 그리면 점을 10개 찍을 수 있다.\n",
        "correlation coeff을 통해 어느정도 비례하는지 알 수 있음\n",
        "correlation coeff를 r로 표현하는데, -1부터 1까지 되어 있음\n",
        "r값이 (+)이면 정비례, (-)이면 반비례라고 생각하면 됨.\n",
        "\n",
        "상관관계가 높다고 할때, r값의 절대값이 1에 가까워짐. 0에 가까워질수록 두리뭉실하게 생김."
      ],
      "metadata": {
        "id": "OgWPilX3bEus"
      }
    },
    {
      "cell_type": "code",
      "metadata": {
        "id": "TuH489v9BvQ7",
        "colab": {
          "base_uri": "https://localhost:8080/"
        },
        "outputId": "80f021a2-50ec-4eb5-aed7-4faf9a306496"
      },
      "source": [
        "np.corrcoef(s1,s2)    #영어점수, 수학점수 대신에 s1, s2를 쓴거임. 처음하고 마지막은 같은 숫자가 나오고 2번째하고 3번째는 똑같은 값이 나와서 그냥 2번째만 보면 됨.\n",
        "                      # e-17은 10의 -17제곱임. 2.41915449 * 10의 -17승하면 0이 나옴."
      ],
      "execution_count": null,
      "outputs": [
        {
          "output_type": "execute_result",
          "data": {
            "text/plain": [
              "array([[1.00000000e+00, 2.41915449e-17],\n",
              "       [2.41915449e-17, 1.00000000e+00]])"
            ]
          },
          "metadata": {},
          "execution_count": 11
        }
      ]
    }
  ]
}
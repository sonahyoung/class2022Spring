{
  "nbformat": 4,
  "nbformat_minor": 0,
  "metadata": {
    "colab": {
      "name": "scikit_learn.ipynb",
      "provenance": [],
      "include_colab_link": true
    },
    "kernelspec": {
      "name": "python3",
      "display_name": "Python 3"
    },
    "language_info": {
      "name": "python"
    }
  },
  "cells": [
    {
      "cell_type": "markdown",
      "metadata": {
        "id": "view-in-github",
        "colab_type": "text"
      },
      "source": [
        "<a href=\"https://colab.research.google.com/github/sonahyoung/class2022Spring/blob/main/scikit_learn2.ipynb\" target=\"_parent\"><img src=\"https://colab.research.google.com/assets/colab-badge.svg\" alt=\"Open In Colab\"/></a>"
      ]
    },
    {
      "cell_type": "markdown",
      "source": [
        "# Scikit-Learn for machine learning"
      ],
      "metadata": {
        "id": "IxKzJrcGnYPf"
      }
    },
    {
      "cell_type": "markdown",
      "source": [
        "### Understanding iris data"
      ],
      "metadata": {
        "id": "sbpiSzqtESUl"
      }
    },
    {
      "cell_type": "code",
      "execution_count": 1,
      "metadata": {
        "id": "VTckSBPVR8l-"
      },
      "outputs": [],
      "source": [
        "import seaborn as sns\n",
        "df = sns.load_dataset('iris')"
      ]
    },
    {
      "cell_type": "code",
      "source": [
        "type(df)"
      ],
      "metadata": {
        "id": "n0FdeK6lV-74"
      },
      "execution_count": null,
      "outputs": []
    },
    {
      "cell_type": "code",
      "source": [
        "df.head()"
      ],
      "metadata": {
        "id": "CPJe8HrvWDUZ"
      },
      "execution_count": null,
      "outputs": []
    },
    {
      "cell_type": "code",
      "source": [
        "df['species'].unique()"
      ],
      "metadata": {
        "id": "PTcz1g2Fe_p2"
      },
      "execution_count": null,
      "outputs": []
    },
    {
      "cell_type": "code",
      "source": [
        "sns.pairplot(df, hue='species')"
      ],
      "metadata": {
        "id": "rgOdNlVsSM2D"
      },
      "execution_count": null,
      "outputs": []
    },
    {
      "cell_type": "code",
      "source": [
        "x = list(df['sepal_length'])\n",
        "y = list(df['sepal_width'])\n",
        "\n",
        "import matplotlib.pyplot as plt\n",
        "plt.scatter(x, y);\n",
        "plt.xlabel('sepal_length')\n",
        "plt.ylabel('sepal_width')"
      ],
      "metadata": {
        "id": "3sJYzjGFSsA_"
      },
      "execution_count": null,
      "outputs": []
    },
    {
      "cell_type": "code",
      "source": [
        "df_setosa = df[df['species']=='setosa']\n",
        "x = list(df_setosa['sepal_length'])\n",
        "y = list(df_setosa['sepal_width'])\n",
        "plt.scatter(x, y);\n",
        "plt.xlabel('sepal_length')\n",
        "plt.ylabel('sepal_width')\n",
        "plt.title('setosa')"
      ],
      "metadata": {
        "id": "c08GEKAMAaAN"
      },
      "execution_count": null,
      "outputs": []
    },
    {
      "cell_type": "markdown",
      "source": [
        "### Supervised learning: regression (linear regression)"
      ],
      "metadata": {
        "id": "o_R4225zNy9C"
      }
    },
    {
      "cell_type": "code",
      "source": [
        "from sklearn.linear_model import LinearRegression"
      ],
      "metadata": {
        "id": "ziXdJ3kISvm9"
      },
      "execution_count": 8,
      "outputs": []
    },
    {
      "cell_type": "code",
      "source": [
        "model = LinearRegression(fit_intercept=True)"
      ],
      "metadata": {
        "id": "OlEh24crS0MS"
      },
      "execution_count": 9,
      "outputs": []
    },
    {
      "cell_type": "code",
      "source": [
        "import numpy as np\n",
        "x = np.array(x)\n",
        "y = np.array(y)"
      ],
      "metadata": {
        "id": "fAuGerI0Dk6X"
      },
      "execution_count": 10,
      "outputs": []
    },
    {
      "cell_type": "code",
      "source": [
        "X = x.reshape(-1, 1)\n",
        "X.shape"
      ],
      "metadata": {
        "id": "R5PRU9bKS6Ns"
      },
      "execution_count": null,
      "outputs": []
    },
    {
      "cell_type": "code",
      "source": [
        "model.fit(X, y)"
      ],
      "metadata": {
        "id": "3VVxgdS0S-P1"
      },
      "execution_count": null,
      "outputs": []
    },
    {
      "cell_type": "code",
      "source": [
        "model.coef_"
      ],
      "metadata": {
        "id": "A5EOsJApS_Sw"
      },
      "execution_count": null,
      "outputs": []
    },
    {
      "cell_type": "code",
      "source": [
        "model.intercept_"
      ],
      "metadata": {
        "id": "ZSEizxdHTBTB"
      },
      "execution_count": null,
      "outputs": []
    },
    {
      "cell_type": "code",
      "source": [
        "xfit = np.linspace(4, 6)"
      ],
      "metadata": {
        "id": "KlzB5PjLTDNb"
      },
      "execution_count": 15,
      "outputs": []
    },
    {
      "cell_type": "code",
      "source": [
        "Xfit = xfit.reshape(-1, 1)\n",
        "yfit = model.predict(Xfit)"
      ],
      "metadata": {
        "id": "SoDllK4qTMnV"
      },
      "execution_count": 16,
      "outputs": []
    },
    {
      "cell_type": "code",
      "source": [
        "plt.scatter(x, y)\n",
        "plt.plot(xfit, yfit);"
      ],
      "metadata": {
        "id": "mXs8kB6CTOgX"
      },
      "execution_count": null,
      "outputs": []
    },
    {
      "cell_type": "code",
      "source": [
        "df_setosa.corr()"
      ],
      "metadata": {
        "id": "k8c41V_RdHT9"
      },
      "execution_count": null,
      "outputs": []
    },
    {
      "cell_type": "markdown",
      "source": [
        "#### gradio implementation"
      ],
      "metadata": {
        "id": "KqnywMyyDheJ"
      }
    },
    {
      "cell_type": "code",
      "source": [
        "!pip install gradio\n",
        "import gradio as gr\n",
        "\n",
        "def test (x):\n",
        "  X = np.array(x).reshape(-1,1)\n",
        "  y = model.predict(X)\n",
        "  return y[0]\n",
        "\n",
        "iface = gr.Interface(test, inputs = [\"number\"], outputs = [\"text\"])\n",
        "iface.launch(debug=True)"
      ],
      "metadata": {
        "id": "TDC6zvjXBqSs"
      },
      "execution_count": null,
      "outputs": []
    },
    {
      "cell_type": "markdown",
      "source": [
        "### Supervised learning: classification (Naive Bayes)\n",
        "\n",
        "output에 category가 있으면 classification.\n",
        "\n",
        "Naive Bayes 외에 logistic regression도 있고, support vector machine(SVM) 이런게 있음. 대표적인 것들임. 근데 요즘에는 이런거 안쓰고 NN을 씀.\n",
        "\n"
      ],
      "metadata": {
        "id": "8Ne8kMHdTY16"
      }
    },
    {
      "cell_type": "code",
      "source": [
        "x = df.drop('species', axis=1) # axis = 0 (delete row) / 1 (delete column)\n",
        "#species에 해당하는 부분을 버리는 거임.\n",
        "x.shape   #그래서 (150,4) 2d array가 나오는 거임"
      ],
      "metadata": {
        "id": "byo-hbZaSQWR",
        "colab": {
          "base_uri": "https://localhost:8080/"
        },
        "outputId": "c12245f0-c1c7-403c-ff8d-bb75c538dc98"
      },
      "execution_count": 21,
      "outputs": [
        {
          "output_type": "execute_result",
          "data": {
            "text/plain": [
              "(150, 4)"
            ]
          },
          "metadata": {},
          "execution_count": 21
        }
      ]
    },
    {
      "cell_type": "code",
      "source": [
        "y = df['species']   #여기는 species만 남기는 거임. 1 column만\n",
        "y.shape "
      ],
      "metadata": {
        "id": "jQapeC6-SQuQ",
        "colab": {
          "base_uri": "https://localhost:8080/"
        },
        "outputId": "9ea7c7c7-328f-45f5-bea3-048c8d595c4d"
      },
      "execution_count": 22,
      "outputs": [
        {
          "output_type": "execute_result",
          "data": {
            "text/plain": [
              "(150,)"
            ]
          },
          "metadata": {},
          "execution_count": 22
        }
      ]
    },
    {
      "cell_type": "markdown",
      "source": [
        "![image.png](data:image/png;base64,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)"
      ],
      "metadata": {
        "id": "tOzDpPRbScK-"
      }
    },
    {
      "cell_type": "code",
      "execution_count": 25,
      "metadata": {
        "collapsed": true,
        "deletable": true,
        "editable": true,
        "id": "0VF2XL_zEE6t"
      },
      "outputs": [],
      "source": [
        "from sklearn.model_selection import train_test_split\n",
        "Xtrain, Xtest, ytrain, ytest = train_test_split(x, y)\n",
        "#쪼갠 이유는? 나중에 가지고 test가지고 test해보려고, Xtrain, ytrain은 model.fit할때만 씀\n",
        "#fit한다 = model을 훈련시킨다.\n",
        "#Xtrain, ytrain -> 훈련용 데이터 (model.fit할때는 이걸 쓰고) - 150개중에 Xtrain은 112개, ytrain도 112개\n",
        "#Xtest, ytest -> 테스트용 데이터 (그래서 model.predict할때는 이걸 씀) - 150개 중에 Xtest는 38개, ytest도 38개"
      ]
    },
    {
      "cell_type": "code",
      "execution_count": null,
      "metadata": {
        "deletable": true,
        "editable": true,
        "id": "JTHRv7XTEE6u"
      },
      "outputs": [],
      "source": [
        "from sklearn.naive_bayes import GaussianNB # 1. choose model class\n",
        "model = GaussianNB()                       # 2. instantiate model   #model부터 메모리에 올려놨다\n",
        "model.fit(Xtrain, ytrain)                  # 3. fit model to data   #그걸 가지고 fit한다. 여기 모델은 y=ax+b는 아니지만 상상을 그렇게 해라. 거기 a와 b를 parameter라고 하는데, Xtrain, Ytrain이라는 데이터에서 fit해라. estimate해라. 위의 x가 Xtrain, y가 ytrain임.\n",
        "#Xtrain, ytrain으로 이름이 달라진 이유는 위의 셀때문임. x와 y를 위에서 쪼갰음. split했음. 쪼개서 일부는 Xtrain, ytrain으로 나머지는 Xtest, ytest로 쪼갰음"
      ]
    },
    {
      "cell_type": "code",
      "source": [
        "yout = model.predict(Xtest)                # 4. predict on new data\n",
        "#y=ax+b는 아니지만, parameter가 estimate된거라고 생각하기.\n",
        "#predict를 할때는 a와 b 값이 다 정해진거나 다름없기 때문에 x값만 넣으면 됨. Xtest의 38개 데이터를 넣는거임.\n",
        "#여기서는 ytest는 이 상태에서는 쓸 필요없음. x만 넣으면 됨. 그리고 나서 y가 얼마나 잘 맞았는지 비교해보면 됨."
      ],
      "metadata": {
        "id": "wFNsBLIQVYay"
      },
      "execution_count": 29,
      "outputs": []
    },
    {
      "cell_type": "code",
      "execution_count": 32,
      "metadata": {
        "deletable": true,
        "editable": true,
        "id": "ok8uOoavEE6u",
        "colab": {
          "base_uri": "https://localhost:8080/"
        },
        "outputId": "d20cbdea-c43b-47a4-dc2f-53c6a7bda0a7"
      },
      "outputs": [
        {
          "output_type": "execute_result",
          "data": {
            "text/plain": [
              "0.9473684210526315"
            ]
          },
          "metadata": {},
          "execution_count": 32
        }
      ],
      "source": [
        "from sklearn.metrics import accuracy_score\n",
        "accuracy_score(ytest, yout)   #ytest과 yout을 비교하는 거임.\n",
        "#yout은 위에서 모델이 예측한거라고 생각하면 됨. ytest는 원래 데이터에 있던 값임.\n",
        "#결과값을 보면 95% 정도 정확하게 맞추고 있다는 걸 알 수 있음."
      ]
    },
    {
      "cell_type": "markdown",
      "source": [
        "#### gradio implementation"
      ],
      "metadata": {
        "id": "Q70XBHpWDy3C"
      }
    },
    {
      "cell_type": "code",
      "source": [
        "import pandas as pd   #model이 만들어졌으나 그걸로 gradio를 만들어볼 수 있음.\n",
        "def test (in1, in2, in3, in4):  #4가지 숫자값을 입력으로 주는 함수를 만들었음.\n",
        "  data = {'sepal_length': [in1],\n",
        "        'sepal_width': [in2],\n",
        "        'petal_length': [in3],\n",
        "        'petal_width': [in4]}\n",
        "  Xtest = pd.DataFrame(data)\n",
        "  yout = model.predict(Xtest)  #그거를 우리가 위에서 훈련시켰던 모델에 넣어주면 값을 뱉어주는 데 그걸 return해주면 된다.\n",
        "  return yout\n",
        "\n",
        "iface = gr.Interface(test, inputs = [\"number\", \"number\", \"number\", \"number\"], outputs = [\"text\"])\n",
        "iface.launch()"
      ],
      "metadata": {
        "id": "NIH6vp887PGR"
      },
      "execution_count": null,
      "outputs": []
    },
    {
      "cell_type": "markdown",
      "source": [
        "### Unsupervised learning: dimensionality (PCA)\n",
        "![image.png](data:image/png;base64,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)"
      ],
      "metadata": {
        "id": "pIBQnNl6MZhX"
      }
    },
    {
      "cell_type": "markdown",
      "source": [
        "PCA는 너무너무너무너무 중요함. 개념을 잘 알아야함.\n",
        "\n",
        "principal component analysis임.\n",
        "\n",
        "(그림에서)\n",
        "\n",
        "3D의 한점은 [15,3,7] 이런 숫자값이 될 수 있음. 근데 iris 데이터에서는 숫자값이 4개였음. [ , , , ] => 이걸 한점으로 나타낼 수 있을까?\n",
        "\n",
        "([15,3,7] 이런 숫자값을 사실은 3차원 vector라고 함. 같은 말로 3d array라고 함.)\n",
        "\n",
        "4차원의 공간에서 어떤 점하고 일치할거임.\n",
        "\n",
        "3d를 일종의 구름덩어리라고 생각하자. 입체를 갖는 cloud라고 상상하자. 각각의 축을 x1, x2, x3라고 할때 각 축이 이루는 각도는 90도이다. 각도는 그대로 유지가 됨. (가운데 그림에서 각도가 유지됨)\n",
        "\n",
        "그 상태에서 원점을 이동시키고 rotate을 잘 시켜서 가장 이 데이터를 잘 관통하게 만듬. (타원형 깡통이 있을때, 제일 긴 반지름은 PC1, 짧은 반지름을 PC2, 높이를 PC3라고 생각하면 됨)\n",
        "\n",
        "PC1은 principal component, 주요소라고함.\n",
        "\n",
        "가운데 그림은 여전히 3차원임. 축이 바뀐 것뿐임. 축에서도 긴게 있고 짧은 게 있음. 너무 짧으면 그냥 무시해도 됨. 이 축에서 1개만 선택해도 되고, 2개 선택해도 되고 상관없음.\n",
        "\n",
        "그 중에서 제일 오른쪽 그림은 제일 짧은 거를 무시하고 꽉 눌러서 그림을 만든거임. 2차원으로 차원 축소한 거임.\n",
        "\n",
        "*이런 일을 하는 이유?\n",
        "\n",
        "영어, 수학, 국어, 과학 이렇게 있다고 하자. 이것 또한 4차원공간에서 점을 찍을 수 있음. 점을 찍으면 4차원 상에 점들이 찍힘. 그걸 c그림처럼 차원 축소를 해서 해석을 할 줄 알아야함. 긴걸 PC1, 짧은 걸 PC2라고 할때, PC1은 언어능력, PC2는 수리능력 이렇게 말할 수 있음. (영어하고 국어하고 같이 할 수 있고, 수학하고 과학하고 같이 할 수 있음)\n",
        "\n",
        "그런식으로 차원이 4개 있는 것을 언어능력, 수리능력으로 축소한거임.\n",
        "\n",
        "이건 너무너무 중요함. 이걸 통해 역량들을 축소해서 추상화할 수 있음. machine learning할때 더 유용하게 쓰일 수 있음.\n"
      ],
      "metadata": {
        "id": "pb5qnWRhXPwd"
      }
    },
    {
      "cell_type": "code",
      "source": [
        "from sklearn.decomposition import PCA  # 1. Choose the model class\n",
        "model = PCA(n_components=2)            # 2. Instantiate the model with hyperparameters\n",
        "#n_components는 4가지 중에 상위 PC1, PC2만 보겠다라고 설정하고 모델로 메모리 띄운거임.\n",
        "model.fit(x)                           # 3. Fit to data. Notice y is not specifiedl\n",
        "#여기서 중요한 것! supervised할때 model.fit할때는 x와 y를 모두 적어줬음.\n",
        "#근데 여기에서는 model.fit할때 데이터 하나만 씀. 근데 x의 차원이 4차원임.\n",
        "X_2D = model.transform(x)\n",
        "#그러면 a그림에서 c그림으로 만들어진다고 생각하면 됨.\n",
        "#원래 x에 들어있던 것은 총 4개의 차원의 값들임. (sepal length, width, petal length, width)\n",
        "#근데 X_2D에는 PC1, PC2가 추가로 더 있구나 생각하면 됨."
      ],
      "metadata": {
        "id": "6QYPe6HqMa1b"
      },
      "execution_count": 39,
      "outputs": []
    },
    {
      "cell_type": "code",
      "source": [
        "df['PCA1'] = X_2D[:, 0]   #결과를 보면 PCA1, PCA2가 만들어져 있음. 뭔지 모르겠는데 4가지에서 언어능력, 수리능력처럼 공통적인 것을 뽑아낸거임.\n",
        "df['PCA2'] = X_2D[:, 1]\n",
        "df"
      ],
      "metadata": {
        "id": "4Xq9scEMMeZS",
        "colab": {
          "base_uri": "https://localhost:8080/",
          "height": 423
        },
        "outputId": "7baef903-956b-41aa-d253-48002bd91009"
      },
      "execution_count": 42,
      "outputs": [
        {
          "output_type": "execute_result",
          "data": {
            "text/plain": [
              "     sepal_length  sepal_width  petal_length  petal_width    species  \\\n",
              "0             5.1          3.5           1.4          0.2     setosa   \n",
              "1             4.9          3.0           1.4          0.2     setosa   \n",
              "2             4.7          3.2           1.3          0.2     setosa   \n",
              "3             4.6          3.1           1.5          0.2     setosa   \n",
              "4             5.0          3.6           1.4          0.2     setosa   \n",
              "..            ...          ...           ...          ...        ...   \n",
              "145           6.7          3.0           5.2          2.3  virginica   \n",
              "146           6.3          2.5           5.0          1.9  virginica   \n",
              "147           6.5          3.0           5.2          2.0  virginica   \n",
              "148           6.2          3.4           5.4          2.3  virginica   \n",
              "149           5.9          3.0           5.1          1.8  virginica   \n",
              "\n",
              "         PCA1      PCA2  \n",
              "0   -2.684126  0.319397  \n",
              "1   -2.714142 -0.177001  \n",
              "2   -2.888991 -0.144949  \n",
              "3   -2.745343 -0.318299  \n",
              "4   -2.728717  0.326755  \n",
              "..        ...       ...  \n",
              "145  1.944110  0.187532  \n",
              "146  1.527167 -0.375317  \n",
              "147  1.764346  0.078859  \n",
              "148  1.900942  0.116628  \n",
              "149  1.390189 -0.282661  \n",
              "\n",
              "[150 rows x 7 columns]"
            ],
            "text/html": [
              "\n",
              "  <div id=\"df-3283c56b-94e8-4063-be72-c05d8a2be4eb\">\n",
              "    <div class=\"colab-df-container\">\n",
              "      <div>\n",
              "<style scoped>\n",
              "    .dataframe tbody tr th:only-of-type {\n",
              "        vertical-align: middle;\n",
              "    }\n",
              "\n",
              "    .dataframe tbody tr th {\n",
              "        vertical-align: top;\n",
              "    }\n",
              "\n",
              "    .dataframe thead th {\n",
              "        text-align: right;\n",
              "    }\n",
              "</style>\n",
              "<table border=\"1\" class=\"dataframe\">\n",
              "  <thead>\n",
              "    <tr style=\"text-align: right;\">\n",
              "      <th></th>\n",
              "      <th>sepal_length</th>\n",
              "      <th>sepal_width</th>\n",
              "      <th>petal_length</th>\n",
              "      <th>petal_width</th>\n",
              "      <th>species</th>\n",
              "      <th>PCA1</th>\n",
              "      <th>PCA2</th>\n",
              "    </tr>\n",
              "  </thead>\n",
              "  <tbody>\n",
              "    <tr>\n",
              "      <th>0</th>\n",
              "      <td>5.1</td>\n",
              "      <td>3.5</td>\n",
              "      <td>1.4</td>\n",
              "      <td>0.2</td>\n",
              "      <td>setosa</td>\n",
              "      <td>-2.684126</td>\n",
              "      <td>0.319397</td>\n",
              "    </tr>\n",
              "    <tr>\n",
              "      <th>1</th>\n",
              "      <td>4.9</td>\n",
              "      <td>3.0</td>\n",
              "      <td>1.4</td>\n",
              "      <td>0.2</td>\n",
              "      <td>setosa</td>\n",
              "      <td>-2.714142</td>\n",
              "      <td>-0.177001</td>\n",
              "    </tr>\n",
              "    <tr>\n",
              "      <th>2</th>\n",
              "      <td>4.7</td>\n",
              "      <td>3.2</td>\n",
              "      <td>1.3</td>\n",
              "      <td>0.2</td>\n",
              "      <td>setosa</td>\n",
              "      <td>-2.888991</td>\n",
              "      <td>-0.144949</td>\n",
              "    </tr>\n",
              "    <tr>\n",
              "      <th>3</th>\n",
              "      <td>4.6</td>\n",
              "      <td>3.1</td>\n",
              "      <td>1.5</td>\n",
              "      <td>0.2</td>\n",
              "      <td>setosa</td>\n",
              "      <td>-2.745343</td>\n",
              "      <td>-0.318299</td>\n",
              "    </tr>\n",
              "    <tr>\n",
              "      <th>4</th>\n",
              "      <td>5.0</td>\n",
              "      <td>3.6</td>\n",
              "      <td>1.4</td>\n",
              "      <td>0.2</td>\n",
              "      <td>setosa</td>\n",
              "      <td>-2.728717</td>\n",
              "      <td>0.326755</td>\n",
              "    </tr>\n",
              "    <tr>\n",
              "      <th>...</th>\n",
              "      <td>...</td>\n",
              "      <td>...</td>\n",
              "      <td>...</td>\n",
              "      <td>...</td>\n",
              "      <td>...</td>\n",
              "      <td>...</td>\n",
              "      <td>...</td>\n",
              "    </tr>\n",
              "    <tr>\n",
              "      <th>145</th>\n",
              "      <td>6.7</td>\n",
              "      <td>3.0</td>\n",
              "      <td>5.2</td>\n",
              "      <td>2.3</td>\n",
              "      <td>virginica</td>\n",
              "      <td>1.944110</td>\n",
              "      <td>0.187532</td>\n",
              "    </tr>\n",
              "    <tr>\n",
              "      <th>146</th>\n",
              "      <td>6.3</td>\n",
              "      <td>2.5</td>\n",
              "      <td>5.0</td>\n",
              "      <td>1.9</td>\n",
              "      <td>virginica</td>\n",
              "      <td>1.527167</td>\n",
              "      <td>-0.375317</td>\n",
              "    </tr>\n",
              "    <tr>\n",
              "      <th>147</th>\n",
              "      <td>6.5</td>\n",
              "      <td>3.0</td>\n",
              "      <td>5.2</td>\n",
              "      <td>2.0</td>\n",
              "      <td>virginica</td>\n",
              "      <td>1.764346</td>\n",
              "      <td>0.078859</td>\n",
              "    </tr>\n",
              "    <tr>\n",
              "      <th>148</th>\n",
              "      <td>6.2</td>\n",
              "      <td>3.4</td>\n",
              "      <td>5.4</td>\n",
              "      <td>2.3</td>\n",
              "      <td>virginica</td>\n",
              "      <td>1.900942</td>\n",
              "      <td>0.116628</td>\n",
              "    </tr>\n",
              "    <tr>\n",
              "      <th>149</th>\n",
              "      <td>5.9</td>\n",
              "      <td>3.0</td>\n",
              "      <td>5.1</td>\n",
              "      <td>1.8</td>\n",
              "      <td>virginica</td>\n",
              "      <td>1.390189</td>\n",
              "      <td>-0.282661</td>\n",
              "    </tr>\n",
              "  </tbody>\n",
              "</table>\n",
              "<p>150 rows × 7 columns</p>\n",
              "</div>\n",
              "      <button class=\"colab-df-convert\" onclick=\"convertToInteractive('df-3283c56b-94e8-4063-be72-c05d8a2be4eb')\"\n",
              "              title=\"Convert this dataframe to an interactive table.\"\n",
              "              style=\"display:none;\">\n",
              "        \n",
              "  <svg xmlns=\"http://www.w3.org/2000/svg\" height=\"24px\"viewBox=\"0 0 24 24\"\n",
              "       width=\"24px\">\n",
              "    <path d=\"M0 0h24v24H0V0z\" fill=\"none\"/>\n",
              "    <path d=\"M18.56 5.44l.94 2.06.94-2.06 2.06-.94-2.06-.94-.94-2.06-.94 2.06-2.06.94zm-11 1L8.5 8.5l.94-2.06 2.06-.94-2.06-.94L8.5 2.5l-.94 2.06-2.06.94zm10 10l.94 2.06.94-2.06 2.06-.94-2.06-.94-.94-2.06-.94 2.06-2.06.94z\"/><path d=\"M17.41 7.96l-1.37-1.37c-.4-.4-.92-.59-1.43-.59-.52 0-1.04.2-1.43.59L10.3 9.45l-7.72 7.72c-.78.78-.78 2.05 0 2.83L4 21.41c.39.39.9.59 1.41.59.51 0 1.02-.2 1.41-.59l7.78-7.78 2.81-2.81c.8-.78.8-2.07 0-2.86zM5.41 20L4 18.59l7.72-7.72 1.47 1.35L5.41 20z\"/>\n",
              "  </svg>\n",
              "      </button>\n",
              "      \n",
              "  <style>\n",
              "    .colab-df-container {\n",
              "      display:flex;\n",
              "      flex-wrap:wrap;\n",
              "      gap: 12px;\n",
              "    }\n",
              "\n",
              "    .colab-df-convert {\n",
              "      background-color: #E8F0FE;\n",
              "      border: none;\n",
              "      border-radius: 50%;\n",
              "      cursor: pointer;\n",
              "      display: none;\n",
              "      fill: #1967D2;\n",
              "      height: 32px;\n",
              "      padding: 0 0 0 0;\n",
              "      width: 32px;\n",
              "    }\n",
              "\n",
              "    .colab-df-convert:hover {\n",
              "      background-color: #E2EBFA;\n",
              "      box-shadow: 0px 1px 2px rgba(60, 64, 67, 0.3), 0px 1px 3px 1px rgba(60, 64, 67, 0.15);\n",
              "      fill: #174EA6;\n",
              "    }\n",
              "\n",
              "    [theme=dark] .colab-df-convert {\n",
              "      background-color: #3B4455;\n",
              "      fill: #D2E3FC;\n",
              "    }\n",
              "\n",
              "    [theme=dark] .colab-df-convert:hover {\n",
              "      background-color: #434B5C;\n",
              "      box-shadow: 0px 1px 3px 1px rgba(0, 0, 0, 0.15);\n",
              "      filter: drop-shadow(0px 1px 2px rgba(0, 0, 0, 0.3));\n",
              "      fill: #FFFFFF;\n",
              "    }\n",
              "  </style>\n",
              "\n",
              "      <script>\n",
              "        const buttonEl =\n",
              "          document.querySelector('#df-3283c56b-94e8-4063-be72-c05d8a2be4eb button.colab-df-convert');\n",
              "        buttonEl.style.display =\n",
              "          google.colab.kernel.accessAllowed ? 'block' : 'none';\n",
              "\n",
              "        async function convertToInteractive(key) {\n",
              "          const element = document.querySelector('#df-3283c56b-94e8-4063-be72-c05d8a2be4eb');\n",
              "          const dataTable =\n",
              "            await google.colab.kernel.invokeFunction('convertToInteractive',\n",
              "                                                     [key], {});\n",
              "          if (!dataTable) return;\n",
              "\n",
              "          const docLinkHtml = 'Like what you see? Visit the ' +\n",
              "            '<a target=\"_blank\" href=https://colab.research.google.com/notebooks/data_table.ipynb>data table notebook</a>'\n",
              "            + ' to learn more about interactive tables.';\n",
              "          element.innerHTML = '';\n",
              "          dataTable['output_type'] = 'display_data';\n",
              "          await google.colab.output.renderOutput(dataTable, element);\n",
              "          const docLink = document.createElement('div');\n",
              "          docLink.innerHTML = docLinkHtml;\n",
              "          element.appendChild(docLink);\n",
              "        }\n",
              "      </script>\n",
              "    </div>\n",
              "  </div>\n",
              "  "
            ]
          },
          "metadata": {},
          "execution_count": 42
        }
      ]
    },
    {
      "cell_type": "code",
      "source": [
        "sns.lmplot(\"PCA1\", \"PCA2\", hue='species', data=df, fit_reg=False);\n",
        "#여기서 PCA1, PCA2만 plot한거임.그리고 나서 hue = 'species'는 종으로 색깔 구분을 해준거임. (4차원을 2차원으로 만든거임)\n",
        "#4차원일때는 plot을 못하다가 2차원으로 줄어드니까 plot이 가능해진거임."
      ],
      "metadata": {
        "colab": {
          "base_uri": "https://localhost:8080/",
          "height": 425
        },
        "id": "sFhEhcnFbVzV",
        "outputId": "d4f8216a-473a-4732-872e-ab4ccc66b70a"
      },
      "execution_count": 45,
      "outputs": [
        {
          "output_type": "stream",
          "name": "stderr",
          "text": [
            "/usr/local/lib/python3.7/dist-packages/seaborn/_decorators.py:43: FutureWarning: Pass the following variables as keyword args: x, y. From version 0.12, the only valid positional argument will be `data`, and passing other arguments without an explicit keyword will result in an error or misinterpretation.\n",
            "  FutureWarning\n"
          ]
        },
        {
          "output_type": "display_data",
          "data": {
            "text/plain": [
              "<Figure size 444.75x360 with 1 Axes>"
            ],
            "image/png": "[encoded data removed]"
          },
          "metadata": {
            "needs_background": "light"
          }
        }
      ]
    },
    {
      "cell_type": "markdown",
      "source": [
        "### Unsupervised learning: clustering (GMM)\n",
        "https://raw.githubusercontent.com/angeloyeo/angeloyeo.github.io/master/pics/2021-02-08-GMM_and_EM/pic1.mp4\n",
        "\n",
        "\n",
        "(링크 타고 들어가서)\n",
        "\n",
        "1차원의 데이터임. 이해를 쉽게 하기 위해서 가져오심. 히스토그램이 1차원의 데이터라고 생각하면 됨. 데이터들이 x축에만 있음. 히스토그램이 나타내주는 말은 데이터가 많이 모여있으면 막대기가 높을거임.\n",
        "\n",
        "(동영상을 보면)\n",
        "\n",
        "처음에는 빨간색 정규분포가 왼쪽에, 초록색 정규분포가 오른쪽에 있음. 근데 그게 움직이면서 자기 자리르 찾아감. 그러다가 자기 자리 찾아가서 딱 fit할때가 있음. 알고리즘이 알아서 찾아가서 fit해버림.\n",
        "\n",
        "두개의 정규분포가 있으니, 너가 알아서 fit해라 라고 하면 빨간색은 어디에 있다. 초록색은 어디에 있다. 이걸 찾아주는 거임.\n"
      ],
      "metadata": {
        "id": "qKWild17NX42"
      }
    },
    {
      "cell_type": "code",
      "source": [
        "#sepal length, width 그리고 petal length, width 4가지 데이터가 있음. 총 150개의 set로 있음. \n",
        "#그게 4차원상에 데이터가 있다고 생각해라. 근데 그건 생각하기 힘드니까 1차원상에 데이터가 있다고 생각해보면, 그룹이 2개로 쪼개져있음.\n",
        "#1차원상에서 데이터가 clustered되어있더라. (2그룹으로) - 그걸 이름을 A, B로 만들어줌. 만약 4차원상에서도 cluster가 되어있다면 그걸 2개로 쪼개라. 그럼 알아서 쪼갬. 그게 하나 더 있음 3개로 쪼갤 수도 있음.\n",
        "#예시로 '키'를 생각해봐라. 여자키, 남자키 이렇게 쪼개질 수 있으면 cluster를 만들어라."
      ],
      "metadata": {
        "id": "hrv462XgdZ9g"
      },
      "execution_count": 46,
      "outputs": []
    },
    {
      "cell_type": "code",
      "source": [
        "from sklearn.mixture import GaussianMixture as GMM   # 1. Choose the model class\n",
        "model = GMM(n_components=3, covariance_type='full')  # 2. Instantiate the model with hyperparameters\n",
        "#n_components=3는 아마도 덩어리가 3개 있다는 말임. 우리는 이미 (species)가 3개 있다는 것을 알고 있음.\n",
        "model.fit(x)                                         # 3. Fit to data. Notice y is not specified!\n",
        "#동영상에서 정규분포가 찾아가는 거 있었는데 model.fit(x)가 그런 찾아가는 거 실행되는거임.\n",
        "#unsupervised라서 y가 들어가지 않음. supervised는 반드시 y가 들어감\n",
        "y_gmm = model.predict(x)                             # 4. Determine cluster labels"
      ],
      "metadata": {
        "id": "I6xITC-GNYSY"
      },
      "execution_count": 57,
      "outputs": []
    },
    {
      "cell_type": "code",
      "source": [
        "y_gmm  #아까 데이터가 150 by 4가 있다고 했음. 그 표 옆에 y_gmm이 붙어서 각각 0,0,1,2,0,0,2,2,1 이런식으로 그룹핑을 해줌."
      ],
      "metadata": {
        "id": "Shv41kkeMoeL",
        "colab": {
          "base_uri": "https://localhost:8080/"
        },
        "outputId": "1fd5b081-ba4c-485e-a11d-f14a3933374c"
      },
      "execution_count": 49,
      "outputs": [
        {
          "output_type": "execute_result",
          "data": {
            "text/plain": [
              "array([0, 0, 0, 0, 0, 0, 0, 0, 0, 0, 0, 0, 0, 0, 0, 0, 0, 0, 0, 0, 0, 0,\n",
              "       0, 0, 0, 0, 0, 0, 0, 0, 0, 0, 0, 0, 0, 0, 0, 0, 0, 0, 0, 0, 0, 0,\n",
              "       0, 0, 0, 0, 0, 0, 1, 1, 1, 1, 1, 1, 1, 1, 1, 1, 1, 1, 1, 1, 1, 1,\n",
              "       1, 1, 2, 1, 2, 1, 2, 1, 1, 1, 1, 2, 1, 1, 1, 1, 1, 2, 1, 1, 1, 1,\n",
              "       1, 1, 1, 1, 1, 1, 1, 1, 1, 1, 1, 1, 2, 2, 2, 2, 2, 2, 2, 2, 2, 2,\n",
              "       2, 2, 2, 2, 2, 2, 2, 2, 2, 2, 2, 2, 2, 2, 2, 2, 2, 2, 2, 2, 2, 2,\n",
              "       2, 2, 2, 2, 2, 2, 2, 2, 2, 2, 2, 2, 2, 2, 2, 2, 2, 2])"
            ]
          },
          "metadata": {},
          "execution_count": 49
        }
      ]
    },
    {
      "cell_type": "code",
      "source": [
        "#우리는 3개의 덩어리가 있을거라는 걸 아니까 억지로 일단 나눈거임. 그리고 아래 셀에서 확인 작업을 해주는 거임."
      ],
      "metadata": {
        "id": "Xhp-LX0IfUA3"
      },
      "execution_count": 50,
      "outputs": []
    },
    {
      "cell_type": "code",
      "source": [
        "df['cluster'] = y_gmm   #위에서 150개로 0,1,2 label해놓은 것을 df로 받은거임 "
      ],
      "metadata": {
        "id": "2zZvlx9yO30K"
      },
      "execution_count": 58,
      "outputs": []
    },
    {
      "cell_type": "code",
      "source": [
        "df   #cluster가 붙여져있음, species와 별개로 GaussianMixture 모델로 clusting해서 예측한 거임."
      ],
      "metadata": {
        "id": "0Zs3yEgwfnHY",
        "outputId": "49d78965-4062-4314-c8bf-4ec4692d1b2b",
        "colab": {
          "base_uri": "https://localhost:8080/",
          "height": 423
        }
      },
      "execution_count": 59,
      "outputs": [
        {
          "output_type": "execute_result",
          "data": {
            "text/plain": [
              "     sepal_length  sepal_width  petal_length  petal_width    species  \\\n",
              "0             5.1          3.5           1.4          0.2     setosa   \n",
              "1             4.9          3.0           1.4          0.2     setosa   \n",
              "2             4.7          3.2           1.3          0.2     setosa   \n",
              "3             4.6          3.1           1.5          0.2     setosa   \n",
              "4             5.0          3.6           1.4          0.2     setosa   \n",
              "..            ...          ...           ...          ...        ...   \n",
              "145           6.7          3.0           5.2          2.3  virginica   \n",
              "146           6.3          2.5           5.0          1.9  virginica   \n",
              "147           6.5          3.0           5.2          2.0  virginica   \n",
              "148           6.2          3.4           5.4          2.3  virginica   \n",
              "149           5.9          3.0           5.1          1.8  virginica   \n",
              "\n",
              "         PCA1      PCA2  cluster  \n",
              "0   -2.684126  0.319397        1  \n",
              "1   -2.714142 -0.177001        1  \n",
              "2   -2.888991 -0.144949        1  \n",
              "3   -2.745343 -0.318299        1  \n",
              "4   -2.728717  0.326755        1  \n",
              "..        ...       ...      ...  \n",
              "145  1.944110  0.187532        2  \n",
              "146  1.527167 -0.375317        2  \n",
              "147  1.764346  0.078859        2  \n",
              "148  1.900942  0.116628        2  \n",
              "149  1.390189 -0.282661        2  \n",
              "\n",
              "[150 rows x 8 columns]"
            ],
            "text/html": [
              "\n",
              "  <div id=\"df-908bf1b9-4b3b-4869-a9c9-ece0be83e69e\">\n",
              "    <div class=\"colab-df-container\">\n",
              "      <div>\n",
              "<style scoped>\n",
              "    .dataframe tbody tr th:only-of-type {\n",
              "        vertical-align: middle;\n",
              "    }\n",
              "\n",
              "    .dataframe tbody tr th {\n",
              "        vertical-align: top;\n",
              "    }\n",
              "\n",
              "    .dataframe thead th {\n",
              "        text-align: right;\n",
              "    }\n",
              "</style>\n",
              "<table border=\"1\" class=\"dataframe\">\n",
              "  <thead>\n",
              "    <tr style=\"text-align: right;\">\n",
              "      <th></th>\n",
              "      <th>sepal_length</th>\n",
              "      <th>sepal_width</th>\n",
              "      <th>petal_length</th>\n",
              "      <th>petal_width</th>\n",
              "      <th>species</th>\n",
              "      <th>PCA1</th>\n",
              "      <th>PCA2</th>\n",
              "      <th>cluster</th>\n",
              "    </tr>\n",
              "  </thead>\n",
              "  <tbody>\n",
              "    <tr>\n",
              "      <th>0</th>\n",
              "      <td>5.1</td>\n",
              "      <td>3.5</td>\n",
              "      <td>1.4</td>\n",
              "      <td>0.2</td>\n",
              "      <td>setosa</td>\n",
              "      <td>-2.684126</td>\n",
              "      <td>0.319397</td>\n",
              "      <td>1</td>\n",
              "    </tr>\n",
              "    <tr>\n",
              "      <th>1</th>\n",
              "      <td>4.9</td>\n",
              "      <td>3.0</td>\n",
              "      <td>1.4</td>\n",
              "      <td>0.2</td>\n",
              "      <td>setosa</td>\n",
              "      <td>-2.714142</td>\n",
              "      <td>-0.177001</td>\n",
              "      <td>1</td>\n",
              "    </tr>\n",
              "    <tr>\n",
              "      <th>2</th>\n",
              "      <td>4.7</td>\n",
              "      <td>3.2</td>\n",
              "      <td>1.3</td>\n",
              "      <td>0.2</td>\n",
              "      <td>setosa</td>\n",
              "      <td>-2.888991</td>\n",
              "      <td>-0.144949</td>\n",
              "      <td>1</td>\n",
              "    </tr>\n",
              "    <tr>\n",
              "      <th>3</th>\n",
              "      <td>4.6</td>\n",
              "      <td>3.1</td>\n",
              "      <td>1.5</td>\n",
              "      <td>0.2</td>\n",
              "      <td>setosa</td>\n",
              "      <td>-2.745343</td>\n",
              "      <td>-0.318299</td>\n",
              "      <td>1</td>\n",
              "    </tr>\n",
              "    <tr>\n",
              "      <th>4</th>\n",
              "      <td>5.0</td>\n",
              "      <td>3.6</td>\n",
              "      <td>1.4</td>\n",
              "      <td>0.2</td>\n",
              "      <td>setosa</td>\n",
              "      <td>-2.728717</td>\n",
              "      <td>0.326755</td>\n",
              "      <td>1</td>\n",
              "    </tr>\n",
              "    <tr>\n",
              "      <th>...</th>\n",
              "      <td>...</td>\n",
              "      <td>...</td>\n",
              "      <td>...</td>\n",
              "      <td>...</td>\n",
              "      <td>...</td>\n",
              "      <td>...</td>\n",
              "      <td>...</td>\n",
              "      <td>...</td>\n",
              "    </tr>\n",
              "    <tr>\n",
              "      <th>145</th>\n",
              "      <td>6.7</td>\n",
              "      <td>3.0</td>\n",
              "      <td>5.2</td>\n",
              "      <td>2.3</td>\n",
              "      <td>virginica</td>\n",
              "      <td>1.944110</td>\n",
              "      <td>0.187532</td>\n",
              "      <td>2</td>\n",
              "    </tr>\n",
              "    <tr>\n",
              "      <th>146</th>\n",
              "      <td>6.3</td>\n",
              "      <td>2.5</td>\n",
              "      <td>5.0</td>\n",
              "      <td>1.9</td>\n",
              "      <td>virginica</td>\n",
              "      <td>1.527167</td>\n",
              "      <td>-0.375317</td>\n",
              "      <td>2</td>\n",
              "    </tr>\n",
              "    <tr>\n",
              "      <th>147</th>\n",
              "      <td>6.5</td>\n",
              "      <td>3.0</td>\n",
              "      <td>5.2</td>\n",
              "      <td>2.0</td>\n",
              "      <td>virginica</td>\n",
              "      <td>1.764346</td>\n",
              "      <td>0.078859</td>\n",
              "      <td>2</td>\n",
              "    </tr>\n",
              "    <tr>\n",
              "      <th>148</th>\n",
              "      <td>6.2</td>\n",
              "      <td>3.4</td>\n",
              "      <td>5.4</td>\n",
              "      <td>2.3</td>\n",
              "      <td>virginica</td>\n",
              "      <td>1.900942</td>\n",
              "      <td>0.116628</td>\n",
              "      <td>2</td>\n",
              "    </tr>\n",
              "    <tr>\n",
              "      <th>149</th>\n",
              "      <td>5.9</td>\n",
              "      <td>3.0</td>\n",
              "      <td>5.1</td>\n",
              "      <td>1.8</td>\n",
              "      <td>virginica</td>\n",
              "      <td>1.390189</td>\n",
              "      <td>-0.282661</td>\n",
              "      <td>2</td>\n",
              "    </tr>\n",
              "  </tbody>\n",
              "</table>\n",
              "<p>150 rows × 8 columns</p>\n",
              "</div>\n",
              "      <button class=\"colab-df-convert\" onclick=\"convertToInteractive('df-908bf1b9-4b3b-4869-a9c9-ece0be83e69e')\"\n",
              "              title=\"Convert this dataframe to an interactive table.\"\n",
              "              style=\"display:none;\">\n",
              "        \n",
              "  <svg xmlns=\"http://www.w3.org/2000/svg\" height=\"24px\"viewBox=\"0 0 24 24\"\n",
              "       width=\"24px\">\n",
              "    <path d=\"M0 0h24v24H0V0z\" fill=\"none\"/>\n",
              "    <path d=\"M18.56 5.44l.94 2.06.94-2.06 2.06-.94-2.06-.94-.94-2.06-.94 2.06-2.06.94zm-11 1L8.5 8.5l.94-2.06 2.06-.94-2.06-.94L8.5 2.5l-.94 2.06-2.06.94zm10 10l.94 2.06.94-2.06 2.06-.94-2.06-.94-.94-2.06-.94 2.06-2.06.94z\"/><path d=\"M17.41 7.96l-1.37-1.37c-.4-.4-.92-.59-1.43-.59-.52 0-1.04.2-1.43.59L10.3 9.45l-7.72 7.72c-.78.78-.78 2.05 0 2.83L4 21.41c.39.39.9.59 1.41.59.51 0 1.02-.2 1.41-.59l7.78-7.78 2.81-2.81c.8-.78.8-2.07 0-2.86zM5.41 20L4 18.59l7.72-7.72 1.47 1.35L5.41 20z\"/>\n",
              "  </svg>\n",
              "      </button>\n",
              "      \n",
              "  <style>\n",
              "    .colab-df-container {\n",
              "      display:flex;\n",
              "      flex-wrap:wrap;\n",
              "      gap: 12px;\n",
              "    }\n",
              "\n",
              "    .colab-df-convert {\n",
              "      background-color: #E8F0FE;\n",
              "      border: none;\n",
              "      border-radius: 50%;\n",
              "      cursor: pointer;\n",
              "      display: none;\n",
              "      fill: #1967D2;\n",
              "      height: 32px;\n",
              "      padding: 0 0 0 0;\n",
              "      width: 32px;\n",
              "    }\n",
              "\n",
              "    .colab-df-convert:hover {\n",
              "      background-color: #E2EBFA;\n",
              "      box-shadow: 0px 1px 2px rgba(60, 64, 67, 0.3), 0px 1px 3px 1px rgba(60, 64, 67, 0.15);\n",
              "      fill: #174EA6;\n",
              "    }\n",
              "\n",
              "    [theme=dark] .colab-df-convert {\n",
              "      background-color: #3B4455;\n",
              "      fill: #D2E3FC;\n",
              "    }\n",
              "\n",
              "    [theme=dark] .colab-df-convert:hover {\n",
              "      background-color: #434B5C;\n",
              "      box-shadow: 0px 1px 3px 1px rgba(0, 0, 0, 0.15);\n",
              "      filter: drop-shadow(0px 1px 2px rgba(0, 0, 0, 0.3));\n",
              "      fill: #FFFFFF;\n",
              "    }\n",
              "  </style>\n",
              "\n",
              "      <script>\n",
              "        const buttonEl =\n",
              "          document.querySelector('#df-908bf1b9-4b3b-4869-a9c9-ece0be83e69e button.colab-df-convert');\n",
              "        buttonEl.style.display =\n",
              "          google.colab.kernel.accessAllowed ? 'block' : 'none';\n",
              "\n",
              "        async function convertToInteractive(key) {\n",
              "          const element = document.querySelector('#df-908bf1b9-4b3b-4869-a9c9-ece0be83e69e');\n",
              "          const dataTable =\n",
              "            await google.colab.kernel.invokeFunction('convertToInteractive',\n",
              "                                                     [key], {});\n",
              "          if (!dataTable) return;\n",
              "\n",
              "          const docLinkHtml = 'Like what you see? Visit the ' +\n",
              "            '<a target=\"_blank\" href=https://colab.research.google.com/notebooks/data_table.ipynb>data table notebook</a>'\n",
              "            + ' to learn more about interactive tables.';\n",
              "          element.innerHTML = '';\n",
              "          dataTable['output_type'] = 'display_data';\n",
              "          await google.colab.output.renderOutput(dataTable, element);\n",
              "          const docLink = document.createElement('div');\n",
              "          docLink.innerHTML = docLinkHtml;\n",
              "          element.appendChild(docLink);\n",
              "        }\n",
              "      </script>\n",
              "    </div>\n",
              "  </div>\n",
              "  "
            ]
          },
          "metadata": {},
          "execution_count": 59
        }
      ]
    },
    {
      "cell_type": "code",
      "source": [
        "sns.lmplot(\"PCA1\", \"PCA2\", data=df, hue='species', col='cluster', fit_reg=False);\n",
        "#위의 plot하고 똑같은데,(PCA1, PCA2로 plot했음)\n",
        "#근데 cluster 값(0,1,2)을 통해서 위의 그림과 다르게 나누어놓은거임.\n",
        "#잘보면, 원래 있던 색깔에 따른 정답값(species 값)하고 거의 다 일치함. 일부만 틀림."
      ],
      "metadata": {
        "id": "pYEEONvlfu6G",
        "outputId": "ed76a28e-1d84-4d4d-c01d-6e1bc8c87591",
        "colab": {
          "base_uri": "https://localhost:8080/",
          "height": 425
        }
      },
      "execution_count": 60,
      "outputs": [
        {
          "output_type": "stream",
          "name": "stderr",
          "text": [
            "/usr/local/lib/python3.7/dist-packages/seaborn/_decorators.py:43: FutureWarning: Pass the following variables as keyword args: x, y. From version 0.12, the only valid positional argument will be `data`, and passing other arguments without an explicit keyword will result in an error or misinterpretation.\n",
            "  FutureWarning\n"
          ]
        },
        {
          "output_type": "display_data",
          "data": {
            "text/plain": [
              "<Figure size 1164.75x360 with 3 Axes>"
            ],
            "image/png": "[encoded data removed]"
          },
          "metadata": {
            "needs_background": "light"
          }
        }
      ]
    },
    {
      "cell_type": "markdown",
      "source": [
        "다시 한번 요약하자면,\n",
        "machine learning은 크게 두가지가 있다.\n",
        "supervised와 unsupervised가 있다.\n",
        "\n",
        "supervised는 input, output이 명시되어야하고, unsupervised는 input이든 output이든 그냥 한 데이터만 명시되어 있으면 된다.\n",
        "\n",
        "supervised는 regression, classification(DNN, ANN을 많이 쓴다. 예전에 썼던 그 3가지는 요즘에는 안쓴다)으로 구분되고, unsupervised는 dimensionality, clustering이 있다.\n",
        "\n",
        "**unsupervised 아주 중요하니 개념 자체를 이해해야함."
      ],
      "metadata": {
        "id": "gLzJWAfhg0pa"
      }
    }
  ]
}
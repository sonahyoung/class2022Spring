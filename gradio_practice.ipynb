{
  "nbformat": 4,
  "nbformat_minor": 0,
  "metadata": {
    "colab": {
      "name": "gradio_practice.ipynb",
      "provenance": [],
      "include_colab_link": true
    },
    "kernelspec": {
      "name": "python3",
      "display_name": "Python 3"
    },
    "language_info": {
      "name": "python"
    }
  },
  "cells": [
    {
      "cell_type": "markdown",
      "metadata": {
        "id": "view-in-github",
        "colab_type": "text"
      },
      "source": [
        "<a href=\"https://colab.research.google.com/github/sonahyoung/class2022Spring/blob/main/gradio_practice.ipynb\" target=\"_parent\"><img src=\"https://colab.research.google.com/assets/colab-badge.svg\" alt=\"Open In Colab\"/></a>"
      ]
    },
    {
      "cell_type": "markdown",
      "source": [
        "gradio는 입출력에 대한 것을 웹으로 데모를 만들어주는 것\n",
        "\n",
        "(*입출력이 있다는 것이 중요한 가정임!!! - 함수가 있다는 말)\n",
        "\n",
        "-> 그래서 함수를 정의해놔야함"
      ],
      "metadata": {
        "id": "SueaVPbyQDuS"
      }
    },
    {
      "cell_type": "code",
      "execution_count": 11,
      "metadata": {
        "id": "ZhrL6xVSQ9bS"
      },
      "outputs": [],
      "source": [
        "def sum(a, b):   #함수 만드는 방법! a와 b는 입력변수, 더하는 함수를 만든거임\n",
        "\n",
        "  c = int(a + b)  #a와 b는 숫자였음\n",
        "  return str(c)   #output에는 number가 없고 text만 있으니까 c 말고 str(c)로 써도 됨"
      ]
    },
    {
      "cell_type": "code",
      "source": [
        "def sum(a, b):    #교수님의 컴퓨터에서는 6이 아니고 6.0이 나옴\n",
        "  c = a + b\n",
        "  c = int(c)      #float로 바뀐거 같아서 int로 따로 써줌 \n",
        "  return str(c)"
      ],
      "metadata": {
        "id": "9wbKVltCTkzx"
      },
      "execution_count": 14,
      "outputs": []
    },
    {
      "cell_type": "code",
      "source": [
        "def sum(a, b):   #이렇게 만들어도 됨\n",
        "  \n",
        "  c = a + b    #c는 출력변수\n",
        "  return c"
      ],
      "metadata": {
        "id": "zG0RzwW6QcNy"
      },
      "execution_count": 10,
      "outputs": []
    },
    {
      "cell_type": "code",
      "source": [
        "sum(2,3)"
      ],
      "metadata": {
        "id": "1HIgbjYWSBNX",
        "outputId": "b609d6f5-9069-46fa-d055-c930a43945b8",
        "colab": {
          "base_uri": "https://localhost:8080/",
          "height": 35
        }
      },
      "execution_count": 16,
      "outputs": [
        {
          "output_type": "execute_result",
          "data": {
            "text/plain": [
              "'5'"
            ],
            "application/vnd.google.colaboratory.intrinsic+json": {
              "type": "string"
            }
          },
          "metadata": {},
          "execution_count": 16
        }
      ]
    },
    {
      "cell_type": "code",
      "source": [
        "!pip install gradio  #웹으로 예쁘게 만들려고 gradio library를 가져옴"
      ],
      "metadata": {
        "id": "sfMdWugISD5M"
      },
      "execution_count": null,
      "outputs": []
    },
    {
      "cell_type": "code",
      "source": [
        "import gradio as gr   #gradio는 import부터 해야함"
      ],
      "metadata": {
        "id": "buyjOWYWS41q"
      },
      "execution_count": 7,
      "outputs": []
    },
    {
      "cell_type": "code",
      "source": [
        "iface = gr.Interface(sum, inputs = [\"number\", \"number\"], outputs = [\"text\"])   #입력변수가 2개니까 list로 적어준거임. 1개이면 아마도 [ ]이거 없어도 될거임\n",
        "iface.launch()  #launch안하면 실행만 되고 아무것도 안일어남. launch를 해야 실제 웹데모가 만들어짐"
      ],
      "metadata": {
        "id": "vNlrBEbSS7ge",
        "outputId": "fabecf93-d6ae-4e8f-ce57-290210c150d9",
        "colab": {
          "base_uri": "https://localhost:8080/",
          "height": 667
        }
      },
      "execution_count": 15,
      "outputs": [
        {
          "output_type": "stream",
          "name": "stdout",
          "text": [
            "Colab notebook detected. To show errors in colab notebook, set `debug=True` in `launch()`\n",
            "Running on public URL: https://26952.gradio.app\n",
            "\n",
            "This share link expires in 72 hours. For free permanent hosting, check out Spaces (https://huggingface.co/spaces)\n"
          ]
        },
        {
          "output_type": "display_data",
          "data": {
            "text/plain": [
              "<IPython.lib.display.IFrame at 0x7fe05e6efa90>"
            ],
            "text/html": [
              "\n",
              "        <iframe\n",
              "            width=\"900\"\n",
              "            height=\"500\"\n",
              "            src=\"https://26952.gradio.app\"\n",
              "            frameborder=\"0\"\n",
              "            allowfullscreen\n",
              "        ></iframe>\n",
              "        "
            ]
          },
          "metadata": {}
        },
        {
          "output_type": "execute_result",
          "data": {
            "text/plain": [
              "(<fastapi.applications.FastAPI at 0x7fe06687ac90>,\n",
              " 'http://127.0.0.1:7861/',\n",
              " 'https://26952.gradio.app')"
            ]
          },
          "metadata": {},
          "execution_count": 15
        }
      ]
    },
    {
      "cell_type": "code",
      "source": [
        "#궁극적으로 sum 부분에 ai를 넣는 거를 하게 될거임."
      ],
      "metadata": {
        "id": "gI1rfc1MUKY_"
      },
      "execution_count": 17,
      "outputs": []
    },
    {
      "cell_type": "code",
      "source": [
        "#gradio 쓰는 방법 -> gr.Interface(함수명, 입력, 출력)\n",
        "#입력을 적는 방법 -> 갯수가 중요함 (입력2, 출력1) -> 그래서 위의 코드에서 number 2개, text 2개임\n",
        "#중요한 것 1.입력의 개수가 맞아야함 / 2. 입력의 type가 맞아야함\n",
        "#type의 종류 -> (gradio에 실제로 가서 input과 output component를 보면)\n",
        "#(입력) number, slide, checkbox, image, video, dataframe...\n",
        "#(출력) textbox, label, image, video, dataframe..."
      ],
      "metadata": {
        "id": "WeOOtmx8RE51"
      },
      "execution_count": 24,
      "outputs": []
    },
    {
      "cell_type": "code",
      "source": [
        "iface = gr.Interface(sum, [gr.inputs.Number(label='input1'), gr.inputs.Number(label='input2')], gr.outputs.Textbox(label='answer'))\n",
        "iface.launch() #decoration하려고 하는 거임"
      ],
      "metadata": {
        "id": "ugm4bqVMU9WA",
        "outputId": "18ec2fd4-8c13-4bb5-cdb1-ac0f5c461150",
        "colab": {
          "base_uri": "https://localhost:8080/",
          "height": 667
        }
      },
      "execution_count": 22,
      "outputs": [
        {
          "output_type": "stream",
          "name": "stdout",
          "text": [
            "Colab notebook detected. To show errors in colab notebook, set `debug=True` in `launch()`\n",
            "Running on public URL: https://26050.gradio.app\n",
            "\n",
            "This share link expires in 72 hours. For free permanent hosting, check out Spaces (https://huggingface.co/spaces)\n"
          ]
        },
        {
          "output_type": "display_data",
          "data": {
            "text/plain": [
              "<IPython.lib.display.IFrame at 0x7fe052187bd0>"
            ],
            "text/html": [
              "\n",
              "        <iframe\n",
              "            width=\"900\"\n",
              "            height=\"500\"\n",
              "            src=\"https://26050.gradio.app\"\n",
              "            frameborder=\"0\"\n",
              "            allowfullscreen\n",
              "        ></iframe>\n",
              "        "
            ]
          },
          "metadata": {}
        },
        {
          "output_type": "execute_result",
          "data": {
            "text/plain": [
              "(<fastapi.applications.FastAPI at 0x7fe06687ac90>,\n",
              " 'http://127.0.0.1:7865/',\n",
              " 'https://26050.gradio.app')"
            ]
          },
          "metadata": {},
          "execution_count": 22
        }
      ]
    },
    {
      "cell_type": "code",
      "source": [
        "iface = gr.Interface(sum, [gr.inputs.Number(label='input1'), gr.inputs.Number(label='input2')], outputs = [\"text\"])\n",
        "iface.launch()   #위에꺼하고 입력변수만 이름 바꿈."
      ],
      "metadata": {
        "id": "9C_eEMRCWExA",
        "outputId": "57bc68c9-62a4-4132-887e-598fcd7d6f7e",
        "colab": {
          "base_uri": "https://localhost:8080/",
          "height": 667
        }
      },
      "execution_count": 23,
      "outputs": [
        {
          "output_type": "stream",
          "name": "stdout",
          "text": [
            "Colab notebook detected. To show errors in colab notebook, set `debug=True` in `launch()`\n",
            "Running on public URL: https://57998.gradio.app\n",
            "\n",
            "This share link expires in 72 hours. For free permanent hosting, check out Spaces (https://huggingface.co/spaces)\n"
          ]
        },
        {
          "output_type": "display_data",
          "data": {
            "text/plain": [
              "<IPython.lib.display.IFrame at 0x7fe056bbd150>"
            ],
            "text/html": [
              "\n",
              "        <iframe\n",
              "            width=\"900\"\n",
              "            height=\"500\"\n",
              "            src=\"https://57998.gradio.app\"\n",
              "            frameborder=\"0\"\n",
              "            allowfullscreen\n",
              "        ></iframe>\n",
              "        "
            ]
          },
          "metadata": {}
        },
        {
          "output_type": "execute_result",
          "data": {
            "text/plain": [
              "(<fastapi.applications.FastAPI at 0x7fe06687ac90>,\n",
              " 'http://127.0.0.1:7866/',\n",
              " 'https://57998.gradio.app')"
            ]
          },
          "metadata": {},
          "execution_count": 23
        }
      ]
    },
    {
      "cell_type": "markdown",
      "source": [
        "inputs = [\"number\", \"number\"]\n",
        "\n",
        "gr.inputs.Number(label='input1'), gr.inputs.Number(label='input2')]\n",
        "\n",
        "-> decoration하려면 아래꺼처럼 해야함.\n",
        "\n",
        "default값을 설정할 수도 있음. (일단 이건 제외)\n"
      ],
      "metadata": {
        "id": "yplpq0I_UaRN"
      }
    },
    {
      "cell_type": "markdown",
      "source": [
        "gradio Docx에 가면 component 찾을 수 있음\n",
        "\n",
        "gradio\n",
        "\n",
        "1. 함수가 있어야한다.\n",
        "2. gradio에 제일 첫번째 받는 인자 이름은 함수이름을 주고, 입력과 출력을 적어주면 되는데 간단하게 적으려면 그냥 inputs = [\"number\", \"number\"] 이렇게 적으면 된다.\n",
        "3. 근데 decoration해주고 싶으면 list로 gr.inputs.그 유형에 해당되는 것 해서 만들어주면 됨."
      ],
      "metadata": {
        "id": "2kswl9k7V8Ar"
      }
    }
  ]
}
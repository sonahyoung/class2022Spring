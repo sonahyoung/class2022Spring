{
  "nbformat": 4,
  "nbformat_minor": 0,
  "metadata": {
    "colab": {
      "name": "20220328.ipynb",
      "provenance": [],
      "collapsed_sections": [],
      "authorship_tag": "ABX9TyOcPdnDcVw0cPwVpxD59boF",
      "include_colab_link": true
    },
    "kernelspec": {
      "name": "python3",
      "display_name": "Python 3"
    },
    "language_info": {
      "name": "python"
    }
  },
  "cells": [
    {
      "cell_type": "markdown",
      "metadata": {
        "id": "view-in-github",
        "colab_type": "text"
      },
      "source": [
        "<a href=\"https://colab.research.google.com/github/sonahyoung/class2022Spring/blob/main/20220328.ipynb\" target=\"_parent\"><img src=\"https://colab.research.google.com/assets/colab-badge.svg\" alt=\"Open In Colab\"/></a>"
      ]
    },
    {
      "cell_type": "code",
      "source": [
        "!pip install gradio\n",
        "import gradio as gr\n",
        "import pandas as pd\n",
        "import requests"
      ],
      "metadata": {
        "id": "brXwu5d2cpB0"
      },
      "execution_count": null,
      "outputs": []
    },
    {
      "cell_type": "code",
      "source": [
        "URL = ('http://apis.data.go.kr/1613000/btiData/getBrdgList?serviceKey=ZUG0J8KwW0H0BaxpRFhYKusTrBhn%2FlAYzalMRU9NSsk8ivFjsJ4y1WqdsNZuJLGug%2FQ1RHvjp9aZ48v3CJy3Hg%3D%3D&hyear=2020&roadType=20&manType=1&manOwn=01&manManage=00011&numOfRows=10&pageNo=1&responseType=json')\n",
        "response = requests.get(URL)"
      ],
      "metadata": {
        "id": "qKuhbHz_eiqZ"
      },
      "execution_count": 11,
      "outputs": []
    },
    {
      "cell_type": "code",
      "source": [
        "response"
      ],
      "metadata": {
        "id": "yCKqa9C6e0Q9"
      },
      "execution_count": null,
      "outputs": []
    },
    {
      "cell_type": "code",
      "source": [
        "r = response.json()\n",
        "r"
      ],
      "metadata": {
        "id": "_kqhRsYIe2qc"
      },
      "execution_count": null,
      "outputs": []
    },
    {
      "cell_type": "code",
      "source": [
        "items = r['response']['body']['items']\n",
        "items"
      ],
      "metadata": {
        "id": "6CbCiCfnfWMC"
      },
      "execution_count": null,
      "outputs": []
    },
    {
      "cell_type": "code",
      "source": [
        "items = r['response']['body']['items']\n",
        "items[0]"
      ],
      "metadata": {
        "id": "rNtm3JQEfcYe"
      },
      "execution_count": null,
      "outputs": []
    },
    {
      "cell_type": "code",
      "source": [
        "facilName = [item['facilName'] for item in items]\n",
        "roadNm = [item['roadNm'] for item in items]\n",
        "roadTypeNm = [item['roadTypeNm'] for item in items]\n",
        "sidoNm = [item['sidoNm'] for item in items]\n",
        "sLatitude = [item['sLatitude'] for item in items]\n",
        "eLatitude = [item['eLatitude'] for item in items]\n",
        "length = [item['length'] for item in items]\n",
        "height = [item['height'] for item in items]\n",
        "\n",
        "facilName = pd.Series(facilName)\n",
        "roadNm = pd.Series(roadNm)\n",
        "roadTypeNm = pd.Series(roadTypeNm)\n",
        "sidoNm = pd.Series(sidoNm)\n",
        "sLatitude = pd.Series(sLatitude)\n",
        "eLatitude = pd.Series(eLatitude)\n",
        "length = pd.Series(length)\n",
        "height = pd.Series(height)\n",
        "\n",
        "df = pd.DataFrame({'facilName': facilName, 'roadNm': roadNm, 'roadTypeNm': roadTypeNm, 'sidoNm': sidoNm, 'sLatitude': sLatitude, 'eLatitude': eLatitude, 'length': length, 'height': height})"
      ],
      "metadata": {
        "id": "XxDV6tdpflGp"
      },
      "execution_count": 20,
      "outputs": []
    },
    {
      "cell_type": "code",
      "source": [
        "df"
      ],
      "metadata": {
        "colab": {
          "base_uri": "https://localhost:8080/",
          "height": 363
        },
        "id": "Kdo8txZzhgIN",
        "outputId": "330d45cc-974f-489d-d363-c861459ac985"
      },
      "execution_count": 21,
      "outputs": [
        {
          "output_type": "execute_result",
          "data": {
            "text/plain": [
              "  facilName    roadNm roadTypeNm sidoNm   sLatitude   eLatitude length height\n",
              "0       풍계교  일반국도37호선       일반국도    경기도   37.149231   37.148733     44      7\n",
              "1      동진2교  일반국도42호선       일반국도    경기도   37.225012   37.225087     13    9.4\n",
              "2       덕평교  일반국도37호선       일반국도    경기도   37.169174   37.169362     32      4\n",
              "3       군하교  일반국도48호선       일반국도    경기도   37.713874   37.713365     84      5\n",
              "4       설서교  일반국도42호선       일반국도    경기도   37.255650   37.255605     28    4.8\n",
              "5       풍계교   일반국도3호선       일반국도    경기도   37.133443   37.133710     55    4.5\n",
              "6       안양교  일반국도38호선       일반국도    경기도   37.009240   37.009015    105    6.2\n",
              "7     쌍학1육교  일반국도39호선       일반국도    경기도   37.243679   37.243997     40    5.1\n",
              "8      송문1교  일반국도42호선       일반국도    경기도   37.225113   37.225074     80    4.5\n",
              "9       백암교  일반국도17호선       일반국도    경기도   37.167768   37.168093     43    5.8"
            ],
            "text/html": [
              "\n",
              "  <div id=\"df-544d3413-5a54-41a0-84fb-90f1865752ff\">\n",
              "    <div class=\"colab-df-container\">\n",
              "      <div>\n",
              "<style scoped>\n",
              "    .dataframe tbody tr th:only-of-type {\n",
              "        vertical-align: middle;\n",
              "    }\n",
              "\n",
              "    .dataframe tbody tr th {\n",
              "        vertical-align: top;\n",
              "    }\n",
              "\n",
              "    .dataframe thead th {\n",
              "        text-align: right;\n",
              "    }\n",
              "</style>\n",
              "<table border=\"1\" class=\"dataframe\">\n",
              "  <thead>\n",
              "    <tr style=\"text-align: right;\">\n",
              "      <th></th>\n",
              "      <th>facilName</th>\n",
              "      <th>roadNm</th>\n",
              "      <th>roadTypeNm</th>\n",
              "      <th>sidoNm</th>\n",
              "      <th>sLatitude</th>\n",
              "      <th>eLatitude</th>\n",
              "      <th>length</th>\n",
              "      <th>height</th>\n",
              "    </tr>\n",
              "  </thead>\n",
              "  <tbody>\n",
              "    <tr>\n",
              "      <th>0</th>\n",
              "      <td>풍계교</td>\n",
              "      <td>일반국도37호선</td>\n",
              "      <td>일반국도</td>\n",
              "      <td>경기도</td>\n",
              "      <td>37.149231</td>\n",
              "      <td>37.148733</td>\n",
              "      <td>44</td>\n",
              "      <td>7</td>\n",
              "    </tr>\n",
              "    <tr>\n",
              "      <th>1</th>\n",
              "      <td>동진2교</td>\n",
              "      <td>일반국도42호선</td>\n",
              "      <td>일반국도</td>\n",
              "      <td>경기도</td>\n",
              "      <td>37.225012</td>\n",
              "      <td>37.225087</td>\n",
              "      <td>13</td>\n",
              "      <td>9.4</td>\n",
              "    </tr>\n",
              "    <tr>\n",
              "      <th>2</th>\n",
              "      <td>덕평교</td>\n",
              "      <td>일반국도37호선</td>\n",
              "      <td>일반국도</td>\n",
              "      <td>경기도</td>\n",
              "      <td>37.169174</td>\n",
              "      <td>37.169362</td>\n",
              "      <td>32</td>\n",
              "      <td>4</td>\n",
              "    </tr>\n",
              "    <tr>\n",
              "      <th>3</th>\n",
              "      <td>군하교</td>\n",
              "      <td>일반국도48호선</td>\n",
              "      <td>일반국도</td>\n",
              "      <td>경기도</td>\n",
              "      <td>37.713874</td>\n",
              "      <td>37.713365</td>\n",
              "      <td>84</td>\n",
              "      <td>5</td>\n",
              "    </tr>\n",
              "    <tr>\n",
              "      <th>4</th>\n",
              "      <td>설서교</td>\n",
              "      <td>일반국도42호선</td>\n",
              "      <td>일반국도</td>\n",
              "      <td>경기도</td>\n",
              "      <td>37.255650</td>\n",
              "      <td>37.255605</td>\n",
              "      <td>28</td>\n",
              "      <td>4.8</td>\n",
              "    </tr>\n",
              "    <tr>\n",
              "      <th>5</th>\n",
              "      <td>풍계교</td>\n",
              "      <td>일반국도3호선</td>\n",
              "      <td>일반국도</td>\n",
              "      <td>경기도</td>\n",
              "      <td>37.133443</td>\n",
              "      <td>37.133710</td>\n",
              "      <td>55</td>\n",
              "      <td>4.5</td>\n",
              "    </tr>\n",
              "    <tr>\n",
              "      <th>6</th>\n",
              "      <td>안양교</td>\n",
              "      <td>일반국도38호선</td>\n",
              "      <td>일반국도</td>\n",
              "      <td>경기도</td>\n",
              "      <td>37.009240</td>\n",
              "      <td>37.009015</td>\n",
              "      <td>105</td>\n",
              "      <td>6.2</td>\n",
              "    </tr>\n",
              "    <tr>\n",
              "      <th>7</th>\n",
              "      <td>쌍학1육교</td>\n",
              "      <td>일반국도39호선</td>\n",
              "      <td>일반국도</td>\n",
              "      <td>경기도</td>\n",
              "      <td>37.243679</td>\n",
              "      <td>37.243997</td>\n",
              "      <td>40</td>\n",
              "      <td>5.1</td>\n",
              "    </tr>\n",
              "    <tr>\n",
              "      <th>8</th>\n",
              "      <td>송문1교</td>\n",
              "      <td>일반국도42호선</td>\n",
              "      <td>일반국도</td>\n",
              "      <td>경기도</td>\n",
              "      <td>37.225113</td>\n",
              "      <td>37.225074</td>\n",
              "      <td>80</td>\n",
              "      <td>4.5</td>\n",
              "    </tr>\n",
              "    <tr>\n",
              "      <th>9</th>\n",
              "      <td>백암교</td>\n",
              "      <td>일반국도17호선</td>\n",
              "      <td>일반국도</td>\n",
              "      <td>경기도</td>\n",
              "      <td>37.167768</td>\n",
              "      <td>37.168093</td>\n",
              "      <td>43</td>\n",
              "      <td>5.8</td>\n",
              "    </tr>\n",
              "  </tbody>\n",
              "</table>\n",
              "</div>\n",
              "      <button class=\"colab-df-convert\" onclick=\"convertToInteractive('df-544d3413-5a54-41a0-84fb-90f1865752ff')\"\n",
              "              title=\"Convert this dataframe to an interactive table.\"\n",
              "              style=\"display:none;\">\n",
              "        \n",
              "  <svg xmlns=\"http://www.w3.org/2000/svg\" height=\"24px\"viewBox=\"0 0 24 24\"\n",
              "       width=\"24px\">\n",
              "    <path d=\"M0 0h24v24H0V0z\" fill=\"none\"/>\n",
              "    <path d=\"M18.56 5.44l.94 2.06.94-2.06 2.06-.94-2.06-.94-.94-2.06-.94 2.06-2.06.94zm-11 1L8.5 8.5l.94-2.06 2.06-.94-2.06-.94L8.5 2.5l-.94 2.06-2.06.94zm10 10l.94 2.06.94-2.06 2.06-.94-2.06-.94-.94-2.06-.94 2.06-2.06.94z\"/><path d=\"M17.41 7.96l-1.37-1.37c-.4-.4-.92-.59-1.43-.59-.52 0-1.04.2-1.43.59L10.3 9.45l-7.72 7.72c-.78.78-.78 2.05 0 2.83L4 21.41c.39.39.9.59 1.41.59.51 0 1.02-.2 1.41-.59l7.78-7.78 2.81-2.81c.8-.78.8-2.07 0-2.86zM5.41 20L4 18.59l7.72-7.72 1.47 1.35L5.41 20z\"/>\n",
              "  </svg>\n",
              "      </button>\n",
              "      \n",
              "  <style>\n",
              "    .colab-df-container {\n",
              "      display:flex;\n",
              "      flex-wrap:wrap;\n",
              "      gap: 12px;\n",
              "    }\n",
              "\n",
              "    .colab-df-convert {\n",
              "      background-color: #E8F0FE;\n",
              "      border: none;\n",
              "      border-radius: 50%;\n",
              "      cursor: pointer;\n",
              "      display: none;\n",
              "      fill: #1967D2;\n",
              "      height: 32px;\n",
              "      padding: 0 0 0 0;\n",
              "      width: 32px;\n",
              "    }\n",
              "\n",
              "    .colab-df-convert:hover {\n",
              "      background-color: #E2EBFA;\n",
              "      box-shadow: 0px 1px 2px rgba(60, 64, 67, 0.3), 0px 1px 3px 1px rgba(60, 64, 67, 0.15);\n",
              "      fill: #174EA6;\n",
              "    }\n",
              "\n",
              "    [theme=dark] .colab-df-convert {\n",
              "      background-color: #3B4455;\n",
              "      fill: #D2E3FC;\n",
              "    }\n",
              "\n",
              "    [theme=dark] .colab-df-convert:hover {\n",
              "      background-color: #434B5C;\n",
              "      box-shadow: 0px 1px 3px 1px rgba(0, 0, 0, 0.15);\n",
              "      filter: drop-shadow(0px 1px 2px rgba(0, 0, 0, 0.3));\n",
              "      fill: #FFFFFF;\n",
              "    }\n",
              "  </style>\n",
              "\n",
              "      <script>\n",
              "        const buttonEl =\n",
              "          document.querySelector('#df-544d3413-5a54-41a0-84fb-90f1865752ff button.colab-df-convert');\n",
              "        buttonEl.style.display =\n",
              "          google.colab.kernel.accessAllowed ? 'block' : 'none';\n",
              "\n",
              "        async function convertToInteractive(key) {\n",
              "          const element = document.querySelector('#df-544d3413-5a54-41a0-84fb-90f1865752ff');\n",
              "          const dataTable =\n",
              "            await google.colab.kernel.invokeFunction('convertToInteractive',\n",
              "                                                     [key], {});\n",
              "          if (!dataTable) return;\n",
              "\n",
              "          const docLinkHtml = 'Like what you see? Visit the ' +\n",
              "            '<a target=\"_blank\" href=https://colab.research.google.com/notebooks/data_table.ipynb>data table notebook</a>'\n",
              "            + ' to learn more about interactive tables.';\n",
              "          element.innerHTML = '';\n",
              "          dataTable['output_type'] = 'display_data';\n",
              "          await google.colab.output.renderOutput(dataTable, element);\n",
              "          const docLink = document.createElement('div');\n",
              "          docLink.innerHTML = docLinkHtml;\n",
              "          element.appendChild(docLink);\n",
              "        }\n",
              "      </script>\n",
              "    </div>\n",
              "  </div>\n",
              "  "
            ]
          },
          "metadata": {},
          "execution_count": 21
        }
      ]
    },
    {
      "cell_type": "code",
      "source": [
        "def road(facilName):\n",
        "  URL = ('http://apis.data.go.kr/1613000/btiData/getBrdgList?serviceKey=ZUG0J8KwW0H0BaxpRFhYKusTrBhn%2FlAYzalMRU9NSsk8ivFjsJ4y1WqdsNZuJLGug%2FQ1RHvjp9aZ48v3CJy3Hg%3D%3D&hyear=2020&roadType=20&manType=1&manOwn=01&manManage=00011&numOfRows=10&pageNo=1&responseType=json')\n",
        "  response = requests.get(URL)\n",
        "  r = response.json()\n",
        "  items = r['response']['body']['items']\n",
        "\n",
        "  facilName = [item['facilName'] for item in items]\n",
        "  roadNm = [item['roadNm'] for item in items]\n",
        "  roadTypeNm = [item['roadTypeNm'] for item in items]\n",
        "  sidoNm = [item['sidoNm'] for item in items]\n",
        "  sLatitude = [item['sLatitude'] for item in items]\n",
        "  eLatitude = [item['eLatitude'] for item in items]\n",
        "  length = [item['length'] for item in items]\n",
        "  height = [item['height'] for item in items]\n",
        "  \n",
        "  facilName = pd.Series(facilName)\n",
        "  roadNm = pd.Series(roadNm)\n",
        "  roadTypeNm = pd.Series(roadTypeNm)\n",
        "  sidoNm = pd.Series(sidoNm)\n",
        "  sLatitude = pd.Series(sLatitude)\n",
        "  eLatitude = pd.Series(eLatitude)\n",
        "  length = pd.Series(length)\n",
        "  height = pd.Series(height)\n",
        "  \n",
        "  df = pd.DataFrame({'facilName': facilName, 'roadNm': roadNm, 'roadTypeNm': roadTypeNm, 'sidoNm': sidoNm, 'sLatitude': sLatitude, 'eLatitude': eLatitude, 'length': length, 'height': height})\n",
        "  return df"
      ],
      "metadata": {
        "id": "z3thUx1nhlPl"
      },
      "execution_count": 22,
      "outputs": []
    },
    {
      "cell_type": "code",
      "source": [
        "iface = gr.Interface(road, gr.inputs.Dropdown(['서울', '부산', '대구', '인천', '광주', '대전', '울산', '경기', '강원', '전북', '전남', '경북', '경남', '제주', '충북', '충남']), outputs = [\"dataframe\"])\n",
        "iface.launch(debug=True)"
      ],
      "metadata": {
        "colab": {
          "base_uri": "https://localhost:8080/",
          "height": 665
        },
        "id": "Mxm-DkcKiJqb",
        "outputId": "54faa47e-de04-4d4b-914f-5f6da5f4dad5"
      },
      "execution_count": 30,
      "outputs": [
        {
          "output_type": "stream",
          "name": "stdout",
          "text": [
            "Colab notebook detected. This cell will run indefinitely so that you can see errors and logs. To turn off, set debug=False in launch().\n",
            "Running on public URL: https://23553.gradio.app\n",
            "\n",
            "This share link expires in 72 hours. For free permanent hosting, check out Spaces (https://huggingface.co/spaces)\n"
          ]
        },
        {
          "output_type": "display_data",
          "data": {
            "text/plain": [
              "<IPython.lib.display.IFrame at 0x7f386128a810>"
            ],
            "text/html": [
              "\n",
              "        <iframe\n",
              "            width=\"900\"\n",
              "            height=\"500\"\n",
              "            src=\"https://23553.gradio.app\"\n",
              "            frameborder=\"0\"\n",
              "            allowfullscreen\n",
              "        ></iframe>\n",
              "        "
            ]
          },
          "metadata": {}
        },
        {
          "output_type": "stream",
          "name": "stdout",
          "text": [
            "Keyboard interruption in main thread... closing server.\n"
          ]
        },
        {
          "output_type": "execute_result",
          "data": {
            "text/plain": [
              "(<fastapi.applications.FastAPI at 0x7f386eb56d50>,\n",
              " 'http://127.0.0.1:7860/',\n",
              " 'https://23553.gradio.app')"
            ]
          },
          "metadata": {},
          "execution_count": 30
        }
      ]
    }
  ]
}
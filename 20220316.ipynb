{
  "nbformat": 4,
  "nbformat_minor": 0,
  "metadata": {
    "colab": {
      "name": "Untitled4.ipynb",
      "provenance": [],
      "collapsed_sections": [],
      "authorship_tag": "ABX9TyNgU6baslFn3pBYLJugpENJ",
      "include_colab_link": true
    },
    "kernelspec": {
      "name": "python3",
      "display_name": "Python 3"
    },
    "language_info": {
      "name": "python"
    }
  },
  "cells": [
    {
      "cell_type": "markdown",
      "metadata": {
        "id": "view-in-github",
        "colab_type": "text"
      },
      "source": [
        "<a href=\"https://colab.research.google.com/github/sonahyoung/class2022Spring/blob/main/20220316.ipynb\" target=\"_parent\"><img src=\"https://colab.research.google.com/assets/colab-badge.svg\" alt=\"Open In Colab\"/></a>"
      ]
    },
    {
      "cell_type": "markdown",
      "source": [
        "1. 변수 variables.ipynb\n",
        "2. 문법 (조건문 if,반복문 for) syntax.ipynb\n",
        "3. 함수 function.ipynb\n",
        "4. 패키지(=library) packages.ipynb"
      ],
      "metadata": {
        "id": "mLleiIidtNRF"
      }
    },
    {
      "cell_type": "markdown",
      "source": [
        "# Variables"
      ],
      "metadata": {
        "id": "5lu0_ErmuFJr"
      }
    },
    {
      "cell_type": "markdown",
      "source": [
        "1. number 숫자\n",
        "\n",
        "   1) int 정수\n",
        "\n",
        "   2) float 실수\n",
        "\n",
        "2. sting 문자\n",
        "3. list (tuple하고 비슷하지만, print(a[1] 이런건 x)\n",
        "4. dict"
      ],
      "metadata": {
        "id": "c4GGFtCwdH9Q"
      }
    },
    {
      "cell_type": "code",
      "execution_count": 1,
      "metadata": {
        "id": "Q3dQi93RtJRH",
        "colab": {
          "base_uri": "https://localhost:8080/"
        },
        "outputId": "0c289af6-a2be-4e01-87c0-8835eb9e7a74"
      },
      "outputs": [
        {
          "output_type": "stream",
          "name": "stdout",
          "text": [
            "<class 'int'>\n"
          ]
        }
      ],
      "source": [
        "a = 4\n",
        "print(type(a))"
      ]
    },
    {
      "cell_type": "code",
      "source": [
        "a = 1.0\n",
        "print(type(a))"
      ],
      "metadata": {
        "colab": {
          "base_uri": "https://localhost:8080/"
        },
        "id": "bNVbtX6_dl4h",
        "outputId": "3303dbed-ad02-4f47-cd3d-9f9fc5048b9c"
      },
      "execution_count": 2,
      "outputs": [
        {
          "output_type": "stream",
          "name": "stdout",
          "text": [
            "<class 'float'>\n"
          ]
        }
      ]
    },
    {
      "cell_type": "code",
      "source": [
        "a = 'abc123'\n",
        "print(type(a))"
      ],
      "metadata": {
        "colab": {
          "base_uri": "https://localhost:8080/"
        },
        "id": "gFAp-IxBdqW5",
        "outputId": "87768629-c580-4930-b4a6-c46b7e22dc24"
      },
      "execution_count": 3,
      "outputs": [
        {
          "output_type": "stream",
          "name": "stdout",
          "text": [
            "<class 'str'>\n"
          ]
        }
      ]
    },
    {
      "cell_type": "code",
      "source": [
        "a = [1, 2, 3]\n",
        "print(type(a))"
      ],
      "metadata": {
        "colab": {
          "base_uri": "https://localhost:8080/"
        },
        "id": "nb2Z1B57dvCV",
        "outputId": "8902bac1-c912-4b71-8b02-e4ce31d7c802"
      },
      "execution_count": 4,
      "outputs": [
        {
          "output_type": "stream",
          "name": "stdout",
          "text": [
            "<class 'list'>\n"
          ]
        }
      ]
    },
    {
      "cell_type": "code",
      "source": [
        "a = {'a': 'apple', 'b': 'book'}\n",
        "print(type(a))"
      ],
      "metadata": {
        "colab": {
          "base_uri": "https://localhost:8080/"
        },
        "id": "juehWvI-eU98",
        "outputId": "55ce6068-e099-4a42-dbf1-af946d0ff31b"
      },
      "execution_count": 8,
      "outputs": [
        {
          "output_type": "stream",
          "name": "stdout",
          "text": [
            "<class 'dict'>\n"
          ]
        }
      ]
    },
    {
      "cell_type": "markdown",
      "source": [
        "list indexing"
      ],
      "metadata": {
        "id": "2QC6azEVd0gX"
      }
    },
    {
      "cell_type": "code",
      "source": [
        "a = [1, 2, 3]\n",
        "print(a[0]); print(a[2])"
      ],
      "metadata": {
        "colab": {
          "base_uri": "https://localhost:8080/"
        },
        "id": "o_x8nqnsdzSj",
        "outputId": "8911d5ee-aaaf-48e8-b525-be1c8aaec225"
      },
      "execution_count": 6,
      "outputs": [
        {
          "output_type": "stream",
          "name": "stdout",
          "text": [
            "1\n",
            "3\n"
          ]
        }
      ]
    },
    {
      "cell_type": "code",
      "source": [
        "a = [1,'a', [3, '4']]\n",
        "print(a[2][0])"
      ],
      "metadata": {
        "colab": {
          "base_uri": "https://localhost:8080/"
        },
        "id": "JbwcL_L3eHgB",
        "outputId": "5fb564d9-d8d0-4119-b926-16fd44dcd8c0"
      },
      "execution_count": 7,
      "outputs": [
        {
          "output_type": "stream",
          "name": "stdout",
          "text": [
            "3\n"
          ]
        }
      ]
    },
    {
      "cell_type": "markdown",
      "source": [
        "string"
      ],
      "metadata": {
        "id": "zVfueN5SeGTj"
      }
    },
    {
      "cell_type": "code",
      "source": [
        "a = 'abcdef123'\n",
        "a[:]"
      ],
      "metadata": {
        "colab": {
          "base_uri": "https://localhost:8080/",
          "height": 35
        },
        "id": "ZQmQJ2WWeEwK",
        "outputId": "721d3d5f-1555-483e-aef4-606b29cdd529"
      },
      "execution_count": 12,
      "outputs": [
        {
          "output_type": "execute_result",
          "data": {
            "text/plain": [
              "'abcdef123'"
            ],
            "application/vnd.google.colaboratory.intrinsic+json": {
              "type": "string"
            }
          },
          "metadata": {},
          "execution_count": 12
        }
      ]
    },
    {
      "cell_type": "markdown",
      "source": [
        "dict"
      ],
      "metadata": {
        "id": "WHe-s33jercr"
      }
    },
    {
      "cell_type": "code",
      "source": [
        "a = {'a': 'apple', 'b': 'book'}\n",
        "a['a']"
      ],
      "metadata": {
        "colab": {
          "base_uri": "https://localhost:8080/",
          "height": 35
        },
        "id": "7hS8jI01es6C",
        "outputId": "5e537df4-22e8-4d69-9644-5abe512a347d"
      },
      "execution_count": 13,
      "outputs": [
        {
          "output_type": "execute_result",
          "data": {
            "text/plain": [
              "'apple'"
            ],
            "application/vnd.google.colaboratory.intrinsic+json": {
              "type": "string"
            }
          },
          "metadata": {},
          "execution_count": 13
        }
      ]
    },
    {
      "cell_type": "markdown",
      "source": [
        "# string 더 자세한 내용"
      ],
      "metadata": {
        "id": "crMEvDGBfLli"
      }
    },
    {
      "cell_type": "code",
      "source": [
        "s = 'abcdef'\n",
        "len(s)"
      ],
      "metadata": {
        "colab": {
          "base_uri": "https://localhost:8080/"
        },
        "id": "8zfbGQhTfQ8i",
        "outputId": "f5d7a6c2-a535-4470-ce7c-a92860cfc93e"
      },
      "execution_count": 14,
      "outputs": [
        {
          "output_type": "execute_result",
          "data": {
            "text/plain": [
              "6"
            ]
          },
          "metadata": {},
          "execution_count": 14
        }
      ]
    },
    {
      "cell_type": "code",
      "source": [
        "s.upper()"
      ],
      "metadata": {
        "colab": {
          "base_uri": "https://localhost:8080/",
          "height": 35
        },
        "id": "_hK0X59EfWZp",
        "outputId": "50ae6d87-384f-43d3-ea2e-56621929b037"
      },
      "execution_count": 15,
      "outputs": [
        {
          "output_type": "execute_result",
          "data": {
            "text/plain": [
              "'ABCDEF'"
            ],
            "application/vnd.google.colaboratory.intrinsic+json": {
              "type": "string"
            }
          },
          "metadata": {},
          "execution_count": 15
        }
      ]
    },
    {
      "cell_type": "code",
      "source": [
        "s = ' this is my house.'\n",
        "s"
      ],
      "metadata": {
        "colab": {
          "base_uri": "https://localhost:8080/",
          "height": 35
        },
        "id": "1kgj0oNffYXb",
        "outputId": "7dfb45c3-fb0e-407a-9ef0-1170d71afe00"
      },
      "execution_count": 32,
      "outputs": [
        {
          "output_type": "execute_result",
          "data": {
            "text/plain": [
              "' this is my house.'"
            ],
            "application/vnd.google.colaboratory.intrinsic+json": {
              "type": "string"
            }
          },
          "metadata": {},
          "execution_count": 32
        }
      ]
    },
    {
      "cell_type": "code",
      "source": [
        "result = s.find('my')\n",
        "result"
      ],
      "metadata": {
        "colab": {
          "base_uri": "https://localhost:8080/"
        },
        "id": "i8cwgH-JfcaS",
        "outputId": "45b126e8-1956-4bef-beed-bae1d160a724"
      },
      "execution_count": 33,
      "outputs": [
        {
          "output_type": "execute_result",
          "data": {
            "text/plain": [
              "9"
            ]
          },
          "metadata": {},
          "execution_count": 33
        }
      ]
    },
    {
      "cell_type": "code",
      "source": [
        "s = s.strip()\n",
        "s"
      ],
      "metadata": {
        "colab": {
          "base_uri": "https://localhost:8080/",
          "height": 35
        },
        "id": "xVC7yP7IgDWt",
        "outputId": "cb6a0060-b80d-4d00-b482-ab9816c65d4e"
      },
      "execution_count": 34,
      "outputs": [
        {
          "output_type": "execute_result",
          "data": {
            "text/plain": [
              "'this is my house.'"
            ],
            "application/vnd.google.colaboratory.intrinsic+json": {
              "type": "string"
            }
          },
          "metadata": {},
          "execution_count": 34
        }
      ]
    },
    {
      "cell_type": "code",
      "source": [
        "tokens = s.split(' ')\n",
        "tokens"
      ],
      "metadata": {
        "colab": {
          "base_uri": "https://localhost:8080/"
        },
        "id": "BDFap2-Yf4oN",
        "outputId": "3ceb51d6-5920-40b3-d53a-4c5bd3d11aed"
      },
      "execution_count": 35,
      "outputs": [
        {
          "output_type": "execute_result",
          "data": {
            "text/plain": [
              "['this', 'is', 'my', 'house.']"
            ]
          },
          "metadata": {},
          "execution_count": 35
        }
      ]
    },
    {
      "cell_type": "code",
      "source": [
        "s = ' '.join(tokens)\n",
        "s"
      ],
      "metadata": {
        "colab": {
          "base_uri": "https://localhost:8080/",
          "height": 35
        },
        "id": "3wO82CpsgJ0J",
        "outputId": "a7f20378-7956-4b62-fdce-7f2c5327da46"
      },
      "execution_count": 37,
      "outputs": [
        {
          "output_type": "execute_result",
          "data": {
            "text/plain": [
              "'this is my house.'"
            ],
            "application/vnd.google.colaboratory.intrinsic+json": {
              "type": "string"
            }
          },
          "metadata": {},
          "execution_count": 37
        }
      ]
    },
    {
      "cell_type": "code",
      "source": [
        "s = s. replace('my', 'his')\n",
        "s"
      ],
      "metadata": {
        "colab": {
          "base_uri": "https://localhost:8080/",
          "height": 35
        },
        "id": "vc-WUA09gPO2",
        "outputId": "00bef2e4-345a-49da-8999-fe4dbf450747"
      },
      "execution_count": 39,
      "outputs": [
        {
          "output_type": "execute_result",
          "data": {
            "text/plain": [
              "'this is his house.'"
            ],
            "application/vnd.google.colaboratory.intrinsic+json": {
              "type": "string"
            }
          },
          "metadata": {},
          "execution_count": 39
        }
      ]
    },
    {
      "cell_type": "markdown",
      "source": [
        "# function\n",
        "\n",
        "1. 함수는 우리가 정의하든, 남이 하든 정의가 되어야함.\n",
        "2. 입력, 출력은 선택적임."
      ],
      "metadata": {
        "id": "UJ28XIPVgVOw"
      }
    },
    {
      "cell_type": "code",
      "source": [
        "def add(a,b):\n",
        "  return a+b"
      ],
      "metadata": {
        "id": "PKuDVXbxgkHz"
      },
      "execution_count": 40,
      "outputs": []
    },
    {
      "cell_type": "code",
      "source": [
        "c = add(2,3)\n",
        "print(c)"
      ],
      "metadata": {
        "colab": {
          "base_uri": "https://localhost:8080/"
        },
        "id": "u9Ujl6_DgqcJ",
        "outputId": "3378a47d-26b6-4a1a-9979-d8ea9cee3c86"
      },
      "execution_count": 41,
      "outputs": [
        {
          "output_type": "stream",
          "name": "stdout",
          "text": [
            "5\n"
          ]
        }
      ]
    },
    {
      "cell_type": "markdown",
      "source": [
        "# syntax\n",
        "\n",
        "1. 반복문 for\n",
        "2. 조건문 if"
      ],
      "metadata": {
        "id": "3322POtggv2U"
      }
    },
    {
      "cell_type": "markdown",
      "source": [
        "for"
      ],
      "metadata": {
        "id": "V7pzP9AWhnij"
      }
    },
    {
      "cell_type": "code",
      "source": [
        "a = [2, 3, 10]\n",
        "for i in a:\n",
        "  print(i)"
      ],
      "metadata": {
        "colab": {
          "base_uri": "https://localhost:8080/"
        },
        "id": "5uyp7zSdgxem",
        "outputId": "6dbf582a-fdb2-41f5-e226-0661ba4b00c2"
      },
      "execution_count": 42,
      "outputs": [
        {
          "output_type": "stream",
          "name": "stdout",
          "text": [
            "2\n",
            "3\n",
            "10\n"
          ]
        }
      ]
    },
    {
      "cell_type": "code",
      "source": [
        "a = [2, 3, 5, 7, 8]\n",
        "for i in range(len(a)):\n",
        "  print(a[i])"
      ],
      "metadata": {
        "colab": {
          "base_uri": "https://localhost:8080/"
        },
        "id": "sYMDv_yog8gx",
        "outputId": "5b6f3b6c-bc5f-49f8-fd66-7583ea4eb1f8"
      },
      "execution_count": 43,
      "outputs": [
        {
          "output_type": "stream",
          "name": "stdout",
          "text": [
            "2\n",
            "3\n",
            "5\n",
            "7\n",
            "8\n"
          ]
        }
      ]
    },
    {
      "cell_type": "code",
      "source": [
        "a = ['black', 'white', 'blue']\n",
        "for i in range(len(a)):\n",
        "  print(a[i])"
      ],
      "metadata": {
        "colab": {
          "base_uri": "https://localhost:8080/"
        },
        "id": "hattOZeLhFVh",
        "outputId": "da60d887-a04c-49f5-9d50-a74e67054a92"
      },
      "execution_count": 44,
      "outputs": [
        {
          "output_type": "stream",
          "name": "stdout",
          "text": [
            "black\n",
            "white\n",
            "blue\n"
          ]
        }
      ]
    },
    {
      "cell_type": "code",
      "source": [
        "for i in range(1,4):\n",
        "  for j in range(2,3):\n",
        "    print (i*j)"
      ],
      "metadata": {
        "colab": {
          "base_uri": "https://localhost:8080/"
        },
        "id": "LllfMn1Why0l",
        "outputId": "2a69d606-4c3c-41d1-8203-b83d854bdf90"
      },
      "execution_count": 46,
      "outputs": [
        {
          "output_type": "stream",
          "name": "stdout",
          "text": [
            "2\n",
            "4\n",
            "6\n"
          ]
        }
      ]
    },
    {
      "cell_type": "markdown",
      "source": [
        "if"
      ],
      "metadata": {
        "id": "AsDTGyHnho_Q"
      }
    },
    {
      "cell_type": "code",
      "source": [
        "a = 1\n",
        "if a == 0:\n",
        "  print(a)\n",
        "else:\n",
        "  print(a+2)"
      ],
      "metadata": {
        "colab": {
          "base_uri": "https://localhost:8080/"
        },
        "id": "qr0XhxAVhmoN",
        "outputId": "b6eaf73d-08f9-4cfe-db3e-56d7431c97f7"
      },
      "execution_count": 45,
      "outputs": [
        {
          "output_type": "stream",
          "name": "stdout",
          "text": [
            "3\n"
          ]
        }
      ]
    },
    {
      "cell_type": "markdown",
      "source": [
        "for과 if"
      ],
      "metadata": {
        "id": "LnyC1NDniBTd"
      }
    },
    {
      "cell_type": "code",
      "source": [
        "for i in range(2,4):\n",
        "  for j in range(5,7):\n",
        "    if j >=5:\n",
        "      print(i*j)"
      ],
      "metadata": {
        "colab": {
          "base_uri": "https://localhost:8080/"
        },
        "id": "7YUhacgWiBCU",
        "outputId": "513f4a13-80fb-44aa-fd92-14114fb21066"
      },
      "execution_count": 47,
      "outputs": [
        {
          "output_type": "stream",
          "name": "stdout",
          "text": [
            "10\n",
            "12\n",
            "15\n",
            "18\n"
          ]
        }
      ]
    },
    {
      "cell_type": "markdown",
      "source": [
        "**list comprehension**"
      ],
      "metadata": {
        "id": "nG3IfwGkiOUq"
      }
    },
    {
      "cell_type": "code",
      "source": [
        "a = [1, 2, 3]\n",
        "b = [i for i in a if i >=3]\n",
        "b"
      ],
      "metadata": {
        "colab": {
          "base_uri": "https://localhost:8080/"
        },
        "id": "FUiw4_HciVgd",
        "outputId": "04a7dfec-1c4c-4013-a8b2-95a4284b95ff"
      },
      "execution_count": 48,
      "outputs": [
        {
          "output_type": "execute_result",
          "data": {
            "text/plain": [
              "[3]"
            ]
          },
          "metadata": {},
          "execution_count": 48
        }
      ]
    },
    {
      "cell_type": "markdown",
      "source": [
        "**dict comprehension**"
      ],
      "metadata": {
        "id": "u0pHFYznnXcg"
      }
    },
    {
      "cell_type": "code",
      "source": [
        "a = ['book', 'album', 'gum']\n",
        "b = [2, 3, 4]\n",
        "c = {a[i]:b[i] for i in range(2)}\n",
        "c"
      ],
      "metadata": {
        "colab": {
          "base_uri": "https://localhost:8080/"
        },
        "id": "l7krzG71ibSU",
        "outputId": "73f722e0-7103-4eb6-e25a-bc60c1a2cf2f"
      },
      "execution_count": 49,
      "outputs": [
        {
          "output_type": "execute_result",
          "data": {
            "text/plain": [
              "{'album': 3, 'book': 2}"
            ]
          },
          "metadata": {},
          "execution_count": 49
        }
      ]
    },
    {
      "cell_type": "markdown",
      "source": [
        "# import"
      ],
      "metadata": {
        "id": "ZLlcCLzVi14V"
      }
    },
    {
      "cell_type": "markdown",
      "source": [
        "numpy -> random 숫자나 행렬을 만들거나, 통계처리할때 유용하게 쓰임"
      ],
      "metadata": {
        "id": "YxfSSXlPjEGc"
      }
    },
    {
      "cell_type": "code",
      "source": [
        "import numpy"
      ],
      "metadata": {
        "id": "0AwuIqevi4Hn"
      },
      "execution_count": 50,
      "outputs": []
    },
    {
      "cell_type": "code",
      "source": [
        "numpy.random.randn(7)"
      ],
      "metadata": {
        "colab": {
          "base_uri": "https://localhost:8080/"
        },
        "id": "Rb5Zi2Mvi62U",
        "outputId": "494f6af4-5ce4-495c-8ee6-b82d5d7e1f50"
      },
      "execution_count": 52,
      "outputs": [
        {
          "output_type": "execute_result",
          "data": {
            "text/plain": [
              "array([ 1.03322603,  0.59519092,  2.37126645, -0.15681697, -1.29294306,\n",
              "        0.38546493, -0.06536159])"
            ]
          },
          "metadata": {},
          "execution_count": 52
        }
      ]
    },
    {
      "cell_type": "code",
      "source": [
        "import numpy as np\n",
        "n = np.random.randn(100)"
      ],
      "metadata": {
        "id": "fBqvhHcWi_Qp"
      },
      "execution_count": 57,
      "outputs": []
    },
    {
      "cell_type": "markdown",
      "source": [
        "matplotlib -> plotting, visualizing하는데 유용한 함수"
      ],
      "metadata": {
        "id": "zoAw4U1QjFFK"
      }
    },
    {
      "cell_type": "code",
      "source": [
        "import matplotlib\n",
        "matplotlib.pyplot.hist(n)"
      ],
      "metadata": {
        "colab": {
          "base_uri": "https://localhost:8080/",
          "height": 356
        },
        "id": "o9OOY8QWjChq",
        "outputId": "e6ca3921-33fd-4e0f-b18c-29419482d6ac"
      },
      "execution_count": 58,
      "outputs": [
        {
          "output_type": "execute_result",
          "data": {
            "text/plain": [
              "(array([ 1.,  2.,  4.,  5., 18., 21., 20., 20.,  5.,  4.]),\n",
              " array([-2.9324714 , -2.41008225, -1.88769309, -1.36530394, -0.84291478,\n",
              "        -0.32052563,  0.20186353,  0.72425268,  1.24664184,  1.76903099,\n",
              "         2.29142015]),\n",
              " <a list of 10 Patch objects>)"
            ]
          },
          "metadata": {},
          "execution_count": 58
        },
        {
          "output_type": "display_data",
          "data": {
            "text/plain": [
              "<Figure size 432x288 with 1 Axes>"
            ],
            "image/png": "[encoded data removed]"
          },
          "metadata": {
            "needs_background": "light"
          }
        }
      ]
    },
    {
      "cell_type": "code",
      "source": [
        "import matplotlib.pyplot\n",
        "matplotlib.pyplot.hist(n)"
      ],
      "metadata": {
        "colab": {
          "base_uri": "https://localhost:8080/",
          "height": 356
        },
        "id": "1DDd_n5ZjfaH",
        "outputId": "f545d139-712e-426d-c589-c8be7a8f406b"
      },
      "execution_count": 59,
      "outputs": [
        {
          "output_type": "execute_result",
          "data": {
            "text/plain": [
              "(array([ 1.,  2.,  4.,  5., 18., 21., 20., 20.,  5.,  4.]),\n",
              " array([-2.9324714 , -2.41008225, -1.88769309, -1.36530394, -0.84291478,\n",
              "        -0.32052563,  0.20186353,  0.72425268,  1.24664184,  1.76903099,\n",
              "         2.29142015]),\n",
              " <a list of 10 Patch objects>)"
            ]
          },
          "metadata": {},
          "execution_count": 59
        },
        {
          "output_type": "display_data",
          "data": {
            "text/plain": [
              "<Figure size 432x288 with 1 Axes>"
            ],
            "image/png": "[encoded data removed]"
          },
          "metadata": {
            "needs_background": "light"
          }
        }
      ]
    },
    {
      "cell_type": "code",
      "source": [
        "import matplotlib.pyplot as plt\n",
        "plt.hist(n)"
      ],
      "metadata": {
        "colab": {
          "base_uri": "https://localhost:8080/",
          "height": 356
        },
        "id": "CbYhR48Mjk78",
        "outputId": "432cd6b5-7bf5-4672-cbe8-173d6b8b752e"
      },
      "execution_count": 60,
      "outputs": [
        {
          "output_type": "execute_result",
          "data": {
            "text/plain": [
              "(array([ 1.,  2.,  4.,  5., 18., 21., 20., 20.,  5.,  4.]),\n",
              " array([-2.9324714 , -2.41008225, -1.88769309, -1.36530394, -0.84291478,\n",
              "        -0.32052563,  0.20186353,  0.72425268,  1.24664184,  1.76903099,\n",
              "         2.29142015]),\n",
              " <a list of 10 Patch objects>)"
            ]
          },
          "metadata": {},
          "execution_count": 60
        },
        {
          "output_type": "display_data",
          "data": {
            "text/plain": [
              "<Figure size 432x288 with 1 Axes>"
            ],
            "image/png": "[encoded data removed]"
          },
          "metadata": {
            "needs_background": "light"
          }
        }
      ]
    },
    {
      "cell_type": "markdown",
      "source": [
        "import as 대신 from import를 쓸 수 있음"
      ],
      "metadata": {
        "id": "8dPSL2uTj0GX"
      }
    },
    {
      "cell_type": "code",
      "source": [
        "from matplotlib import pyplot\n",
        "pyplot.hist(n)"
      ],
      "metadata": {
        "colab": {
          "base_uri": "https://localhost:8080/",
          "height": 356
        },
        "id": "U_XYbJCRj7SZ",
        "outputId": "29b75f0a-8250-4cf4-e438-5b7cff5b9fe1"
      },
      "execution_count": 61,
      "outputs": [
        {
          "output_type": "execute_result",
          "data": {
            "text/plain": [
              "(array([ 1.,  2.,  4.,  5., 18., 21., 20., 20.,  5.,  4.]),\n",
              " array([-2.9324714 , -2.41008225, -1.88769309, -1.36530394, -0.84291478,\n",
              "        -0.32052563,  0.20186353,  0.72425268,  1.24664184,  1.76903099,\n",
              "         2.29142015]),\n",
              " <a list of 10 Patch objects>)"
            ]
          },
          "metadata": {},
          "execution_count": 61
        },
        {
          "output_type": "display_data",
          "data": {
            "text/plain": [
              "<Figure size 432x288 with 1 Axes>"
            ],
            "image/png": "[encoded data removed]"
          },
          "metadata": {
            "needs_background": "light"
          }
        }
      ]
    },
    {
      "cell_type": "code",
      "source": [
        "from matplotlib.pyplot import hist\n",
        "hist(n)"
      ],
      "metadata": {
        "colab": {
          "base_uri": "https://localhost:8080/",
          "height": 356
        },
        "id": "ivl6vGZYkAHg",
        "outputId": "acb9f40f-7cc8-4b83-eb89-2e3b76ebe5ca"
      },
      "execution_count": 62,
      "outputs": [
        {
          "output_type": "execute_result",
          "data": {
            "text/plain": [
              "(array([ 1.,  2.,  4.,  5., 18., 21., 20., 20.,  5.,  4.]),\n",
              " array([-2.9324714 , -2.41008225, -1.88769309, -1.36530394, -0.84291478,\n",
              "        -0.32052563,  0.20186353,  0.72425268,  1.24664184,  1.76903099,\n",
              "         2.29142015]),\n",
              " <a list of 10 Patch objects>)"
            ]
          },
          "metadata": {},
          "execution_count": 62
        },
        {
          "output_type": "display_data",
          "data": {
            "text/plain": [
              "<Figure size 432x288 with 1 Axes>"
            ],
            "image/png": "[encoded data removed]"
          },
          "metadata": {
            "needs_background": "light"
          }
        }
      ]
    },
    {
      "cell_type": "markdown",
      "source": [
        "# numpy_matplotlib"
      ],
      "metadata": {
        "id": "PzmYjOKLkKo2"
      }
    },
    {
      "cell_type": "markdown",
      "source": [
        "**create nd arrays(≈matrices)**\n",
        "\n",
        "matrices는 행렬이라는 뜻"
      ],
      "metadata": {
        "id": "Kkqex2JYkR_l"
      }
    },
    {
      "cell_type": "code",
      "source": [
        "import numpy as np"
      ],
      "metadata": {
        "id": "0bt1vilwkTuc"
      },
      "execution_count": 63,
      "outputs": []
    },
    {
      "cell_type": "code",
      "source": [
        "x = np.array([1,2,3,4])\n",
        "print(x)\n",
        "print(type(x))\n",
        "print(x.shape)"
      ],
      "metadata": {
        "colab": {
          "base_uri": "https://localhost:8080/"
        },
        "id": "id9HHUYzkbmK",
        "outputId": "8ae19b45-6d27-42df-ebf9-5b06863c56c7"
      },
      "execution_count": 65,
      "outputs": [
        {
          "output_type": "stream",
          "name": "stdout",
          "text": [
            "[1 2 3 4]\n",
            "<class 'numpy.ndarray'>\n",
            "(4,)\n"
          ]
        }
      ]
    },
    {
      "cell_type": "code",
      "source": [
        "x = np.array([[1,2], [4,5]])\n",
        "print(x)\n",
        "print(type(x))\n",
        "print(x.shape)"
      ],
      "metadata": {
        "colab": {
          "base_uri": "https://localhost:8080/"
        },
        "id": "aDpIrJ23k9nT",
        "outputId": "0ec734f5-e1c0-485b-a7aa-5af16fcbcda5"
      },
      "execution_count": 71,
      "outputs": [
        {
          "output_type": "stream",
          "name": "stdout",
          "text": [
            "[[1 2]\n",
            " [4 5]]\n",
            "<class 'numpy.ndarray'>\n",
            "(2, 2)\n"
          ]
        }
      ]
    },
    {
      "cell_type": "code",
      "source": [
        "x = np.array([[[1,2], [4,5]], [[7,8], [9,20]]])\n",
        "print(x)\n",
        "print(type(x))\n",
        "print(x.shape)"
      ],
      "metadata": {
        "colab": {
          "base_uri": "https://localhost:8080/"
        },
        "id": "bvucg_dxlF6l",
        "outputId": "61e189fe-66b6-48f8-bf28-5c71a49b1684"
      },
      "execution_count": 72,
      "outputs": [
        {
          "output_type": "stream",
          "name": "stdout",
          "text": [
            "[[[ 1  2]\n",
            "  [ 4  5]]\n",
            "\n",
            " [[ 7  8]\n",
            "  [ 9 20]]]\n",
            "<class 'numpy.ndarray'>\n",
            "(2, 2, 2)\n"
          ]
        }
      ]
    },
    {
      "cell_type": "code",
      "source": [
        "x = np.arange(0,12,3)\n",
        "print(x)\n",
        "print(type(x))\n",
        "print(x.shape)"
      ],
      "metadata": {
        "colab": {
          "base_uri": "https://localhost:8080/"
        },
        "id": "sTsKrhiOkk6w",
        "outputId": "6280e364-0f47-4720-e08e-bd2a560c5088"
      },
      "execution_count": 68,
      "outputs": [
        {
          "output_type": "stream",
          "name": "stdout",
          "text": [
            "[0 3 6 9]\n",
            "<class 'numpy.ndarray'>\n",
            "(4,)\n"
          ]
        }
      ]
    },
    {
      "cell_type": "code",
      "source": [
        "x = np.linspace(0,10,5)\n",
        "print(x)\n",
        "print(type(x))\n",
        "print(x.shape)"
      ],
      "metadata": {
        "colab": {
          "base_uri": "https://localhost:8080/"
        },
        "id": "j6D3GmkpkxbM",
        "outputId": "2a2e7566-9629-4d29-820d-efaa1dd6bc74"
      },
      "execution_count": 70,
      "outputs": [
        {
          "output_type": "stream",
          "name": "stdout",
          "text": [
            "[ 0.   2.5  5.   7.5 10. ]\n",
            "<class 'numpy.ndarray'>\n",
            "(5,)\n"
          ]
        }
      ]
    },
    {
      "cell_type": "code",
      "source": [
        "x = np.ones([2,3,2])\n",
        "print(x)\n",
        "print(type(x))\n",
        "print(x.shape)"
      ],
      "metadata": {
        "colab": {
          "base_uri": "https://localhost:8080/"
        },
        "id": "dKF6lL9Qk63h",
        "outputId": "eceb1d7a-3f6d-4adf-88fe-1b4fc1f60fa5"
      },
      "execution_count": 73,
      "outputs": [
        {
          "output_type": "stream",
          "name": "stdout",
          "text": [
            "[[[1. 1.]\n",
            "  [1. 1.]\n",
            "  [1. 1.]]\n",
            "\n",
            " [[1. 1.]\n",
            "  [1. 1.]\n",
            "  [1. 1.]]]\n",
            "<class 'numpy.ndarray'>\n",
            "(2, 3, 2)\n"
          ]
        }
      ]
    },
    {
      "cell_type": "code",
      "source": [
        "x = np.zeros([2,3,2])\n",
        "print(x)\n",
        "print(type(x))\n",
        "print(x.shape)"
      ],
      "metadata": {
        "colab": {
          "base_uri": "https://localhost:8080/"
        },
        "id": "Me_A4GTAlqTM",
        "outputId": "a613cb04-c96f-4998-8e5b-fab6bc457428"
      },
      "execution_count": 74,
      "outputs": [
        {
          "output_type": "stream",
          "name": "stdout",
          "text": [
            "[[[0. 0.]\n",
            "  [0. 0.]\n",
            "  [0. 0.]]\n",
            "\n",
            " [[0. 0.]\n",
            "  [0. 0.]\n",
            "  [0. 0.]]]\n",
            "<class 'numpy.ndarray'>\n",
            "(2, 3, 2)\n"
          ]
        }
      ]
    },
    {
      "cell_type": "markdown",
      "source": [
        "create random numbers"
      ],
      "metadata": {
        "id": "fD_zoMzmlz5i"
      }
    },
    {
      "cell_type": "code",
      "source": [
        "np.random.normal(0,1, [2,3])"
      ],
      "metadata": {
        "colab": {
          "base_uri": "https://localhost:8080/"
        },
        "id": "0sjQmed7l1i9",
        "outputId": "ce7bb3fd-2fdd-4333-8dca-7825138bd7cc"
      },
      "execution_count": 75,
      "outputs": [
        {
          "output_type": "execute_result",
          "data": {
            "text/plain": [
              "array([[1.63455876, 0.78750096, 0.77420254],\n",
              "       [0.49760437, 0.71174383, 0.08359073]])"
            ]
          },
          "metadata": {},
          "execution_count": 75
        }
      ]
    },
    {
      "cell_type": "code",
      "source": [
        "import matplotlib.pyplot as plt"
      ],
      "metadata": {
        "id": "g5iGv6W6l6R0"
      },
      "execution_count": 76,
      "outputs": []
    },
    {
      "cell_type": "code",
      "source": [
        "x = np.random.normal(0,1,100)\n",
        "print(x)\n",
        "plt.hist(x, bins=10)"
      ],
      "metadata": {
        "colab": {
          "base_uri": "https://localhost:8080/",
          "height": 810
        },
        "id": "VhZw3luel8lB",
        "outputId": "3b56d38a-0549-4b69-a5c0-75fac4b895db"
      },
      "execution_count": 79,
      "outputs": [
        {
          "output_type": "stream",
          "name": "stdout",
          "text": [
            "[ 8.09886546e-01 -9.79493447e-01  1.20094958e+00 -6.63367656e-01\n",
            " -1.43052129e+00 -7.20016877e-01 -1.57532676e-01 -1.04522295e+00\n",
            " -2.97709455e-01  4.58358643e-01 -2.75015692e+00 -1.11171892e+00\n",
            "  1.58544928e+00  2.95810550e-01  5.73022501e-01 -6.75122689e-03\n",
            "  1.32624237e+00  7.98164149e-01 -6.11863188e-01 -1.75460473e-02\n",
            "  2.62205599e-01 -9.42466261e-01  3.67848368e-01 -7.35377690e-01\n",
            " -2.45703421e-01 -4.94988598e-01 -1.50912527e+00  8.77229759e-01\n",
            "  5.14637826e-01 -1.70627971e+00 -3.02493159e-01  1.43437283e+00\n",
            "  3.73325882e-01  6.88173219e-01  4.39313588e-01  1.17275871e+00\n",
            " -7.13105330e-01 -2.22492676e+00  1.21106163e+00  2.17505584e-01\n",
            " -2.32624261e+00 -1.76311737e+00 -1.28011436e+00 -1.97821743e+00\n",
            " -1.15633678e-01 -1.02624916e+00  1.42839736e+00  8.82582794e-01\n",
            " -2.06279047e+00 -7.23031363e-01 -1.19790791e+00  6.14261000e-01\n",
            " -4.74218188e-01 -1.77576443e-01  1.97800191e+00 -1.29309401e+00\n",
            " -1.16942978e+00  4.16871830e-01 -1.06142593e+00  6.62504777e-02\n",
            " -1.92793800e+00 -4.71005630e-01 -5.45991007e-02 -3.27489403e-01\n",
            "  1.45588450e+00  2.79054789e+00  1.79745121e+00  2.46154961e-01\n",
            " -6.80306023e-01 -1.09382440e+00  4.68338269e-01  4.99582168e-02\n",
            "  7.13099696e-01 -1.40941125e+00  1.55183855e-01 -4.81413058e-01\n",
            " -1.01546211e+00 -6.54039736e-01  1.92346767e+00 -1.49423300e+00\n",
            "  2.24537577e-02 -5.04480219e-01  1.19873496e+00  6.18836751e-02\n",
            "  2.91713787e-01 -1.03668794e+00 -2.68531263e+00 -2.06214089e+00\n",
            " -8.18360481e-01 -6.91050998e-01  1.73828142e-01  6.48470896e-01\n",
            "  2.41298962e-01 -4.90153571e-01 -5.63564706e-01 -1.24939559e-03\n",
            " -1.93275340e+00 -6.17444507e-01 -8.00030286e-01 -9.47173154e-01]\n"
          ]
        },
        {
          "output_type": "execute_result",
          "data": {
            "text/plain": [
              "(array([ 4.,  7., 10., 21., 17., 20.,  8.,  9.,  3.,  1.]),\n",
              " array([-2.75015692, -2.19608644, -1.64201596, -1.08794548, -0.533875  ,\n",
              "         0.02019548,  0.57426596,  1.12833645,  1.68240693,  2.23647741,\n",
              "         2.79054789]),\n",
              " <a list of 10 Patch objects>)"
            ]
          },
          "metadata": {},
          "execution_count": 79
        },
        {
          "output_type": "display_data",
          "data": {
            "text/plain": [
              "<Figure size 432x288 with 1 Axes>"
            ],
            "image/png": "[encoded data removed]"
          },
          "metadata": {
            "needs_background": "light"
          }
        }
      ]
    },
    {
      "cell_type": "markdown",
      "source": [
        "generate a sin curve"
      ],
      "metadata": {
        "id": "UVOJMjiUmITl"
      }
    },
    {
      "cell_type": "code",
      "source": [
        "plt.figure()\n",
        "\n",
        "theta1 = np.linspace(0, 2*np.pi, 100)\n",
        "s1 = np.sin(theta1)\n",
        "theta2 = np.linspace(0, 2*np.pi, 100) + np.pi/2\n",
        "s2 = np.sin(theta2)\n",
        "\n",
        "plt.subplot(2,2,1)\n",
        "plt.plot(theta1, s1, ':')\n",
        "plt.subplot(2,2,2)\n",
        "plt.plot(theta2, s2, ':')"
      ],
      "metadata": {
        "colab": {
          "base_uri": "https://localhost:8080/",
          "height": 165
        },
        "id": "G9nfFCzfmHkY",
        "outputId": "1ca2f53d-e4e9-4d5d-86e8-6e08f55c5199"
      },
      "execution_count": 84,
      "outputs": [
        {
          "output_type": "execute_result",
          "data": {
            "text/plain": [
              "[<matplotlib.lines.Line2D at 0x7fdfc17c0c10>]"
            ]
          },
          "metadata": {},
          "execution_count": 84
        },
        {
          "output_type": "display_data",
          "data": {
            "text/plain": [
              "<Figure size 432x288 with 2 Axes>"
            ],
            "image/png": "[encoded data removed]"
          },
          "metadata": {
            "needs_background": "light"
          }
        }
      ]
    },
    {
      "cell_type": "markdown",
      "source": [
        "correlation coeff는 r로 표현\n",
        "\n",
        "r은 -1부터 1까지. r이 (+)이면 정비례, (-)이면 반비례\n",
        "\n",
        "상관관계가 높다고 할때, r의 절댓값이 1에 가까워지고, 0에 가까울수록 상관관계가 낮음."
      ],
      "metadata": {
        "id": "krgNkkZzm1oF"
      }
    },
    {
      "cell_type": "code",
      "source": [
        "np.corrcoef(s1,s2)"
      ],
      "metadata": {
        "colab": {
          "base_uri": "https://localhost:8080/"
        },
        "id": "6eEaud1Am08c",
        "outputId": "3fae4c5a-c93f-445a-8d62-b259aa4ecc50"
      },
      "execution_count": 85,
      "outputs": [
        {
          "output_type": "execute_result",
          "data": {
            "text/plain": [
              "array([[1.00000000e+00, 2.41915449e-17],\n",
              "       [2.41915449e-17, 1.00000000e+00]])"
            ]
          },
          "metadata": {},
          "execution_count": 85
        }
      ]
    }
  ]
}
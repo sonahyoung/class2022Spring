{
  "nbformat": 4,
  "nbformat_minor": 0,
  "metadata": {
    "colab": {
      "name": "packages.ipynb",
      "provenance": [],
      "include_colab_link": true
    },
    "kernelspec": {
      "name": "python3",
      "display_name": "Python 3"
    },
    "language_info": {
      "name": "python"
    }
  },
  "cells": [
    {
      "cell_type": "markdown",
      "metadata": {
        "id": "view-in-github",
        "colab_type": "text"
      },
      "source": [
        "<a href=\"https://colab.research.google.com/github/sonahyoung/class2022Spring/blob/main/packages.ipynb\" target=\"_parent\"><img src=\"https://colab.research.google.com/assets/colab-badge.svg\" alt=\"Open In Colab\"/></a>"
      ]
    },
    {
      "cell_type": "code",
      "execution_count": 1,
      "metadata": {
        "id": "yUr2PYRXCHJT"
      },
      "outputs": [],
      "source": [
        "import numpy \n",
        "import pandas\n",
        "import matplotlib\n",
        "import seaborn\n",
        "import sklearn\n",
        "import requests\n",
        "import urllib3\n",
        "import nltk\n",
        "import PIL\n",
        "import pytest\n",
        "import librosa"
      ]
    },
    {
      "cell_type": "markdown",
      "source": [
        "많이 쓰는 package는 이미 python에 install이 되어 있음\n",
        "그래서 import해오면 됨.\n",
        "\n",
        "print 이런 함수는 이미 built-in이 되어 있어서 import도 안해와도 된다.\n",
        "\n",
        "함수의 3가지\n",
        "1. install - 유명하지 않은 package는 install부터 해야함\n",
        "2. import\n",
        "3. built-in - print나 len같은 함수"
      ],
      "metadata": {
        "id": "kMI0IAG3TfRR"
      }
    }
  ]
}